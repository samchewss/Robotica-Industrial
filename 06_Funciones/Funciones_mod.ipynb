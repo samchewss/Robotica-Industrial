{
 "cells": [
  {
   "cell_type": "markdown",
   "metadata": {},
   "source": [
    "# Funciones\n",
    "\n",
    "Una función es un bloque de código el cual puede ser ejecutado cuando y cuantas veces deseemos.\n",
    "\n",
    "La sintaxis para una definición de función en Python es:\n",
    "\n",
    "**def NOMBRE(** LISTA DE PARAMETROS **):**\n",
    "    \n",
    "    SENTENCIAS"
   ]
  },
  {
   "cell_type": "code",
   "execution_count": null,
   "metadata": {},
   "outputs": [],
   "source": []
  },
  {
   "cell_type": "markdown",
   "metadata": {},
   "source": [
    "Una función, no es ejecutada hasta que no sea invocada. \n",
    "\n",
    "- Para invocar una función, simplemente se la llama por su nombre:"
   ]
  },
  {
   "cell_type": "code",
   "execution_count": null,
   "metadata": {},
   "outputs": [],
   "source": []
  },
  {
   "cell_type": "markdown",
   "metadata": {},
   "source": [
    "O podemos escribir una nueva función que invoque a otras funciones\n",
    "\n",
    "ejemplo:  **tres_saludos** que muestre tres saludos:"
   ]
  },
  {
   "cell_type": "code",
   "execution_count": null,
   "metadata": {},
   "outputs": [],
   "source": []
  },
  {
   "cell_type": "code",
   "execution_count": null,
   "metadata": {},
   "outputs": [],
   "source": []
  },
  {
   "cell_type": "markdown",
   "metadata": {},
   "source": [
    "# Las funciones admiten parámetros en su llamada\n",
    "\n",
    "\n",
    "<font color=\"orange\"> Un parámetro es un valor que la función espera recibir cuando sea llamada (invocada) </font>\n",
    "a fin de ejecutar acciones en base al mismo.\n",
    "\n",
    " Una función puede esperar uno o más parámetros (que irán separados por una coma) o ninguno."
   ]
  },
  {
   "cell_type": "code",
   "execution_count": null,
   "metadata": {},
   "outputs": [],
   "source": []
  },
  {
   "cell_type": "code",
   "execution_count": null,
   "metadata": {},
   "outputs": [],
   "source": []
  },
  {
   "cell_type": "markdown",
   "metadata": {},
   "source": [
    "### <font color = AB1010>Nota:</font> El número de valores que se pasan como parámetro al llamar a la función tiene que coincidir con el número de parámetros que la función acepta según la declaración de la función. "
   ]
  },
  {
   "cell_type": "markdown",
   "metadata": {},
   "source": [
    "# Parámetros por omisión"
   ]
  },
  {
   "cell_type": "code",
   "execution_count": null,
   "metadata": {},
   "outputs": [
    {
     "name": "stdout",
     "output_type": "stream",
     "text": [
      "La media es: 4.0\n",
      "La media es: 7.0\n"
     ]
    }
   ],
   "source": [
    "def media_2 (a,b):\n",
    "    media = (a+b)/2\n",
    "    print (\"La media es:\",media )\n",
    "\n",
    "media_2(3)\n",
    "media_2(4,10)\n"
   ]
  },
  {
   "cell_type": "markdown",
   "metadata": {},
   "source": [
    "\n",
    "## Sin embargo también es posible modificar el orden de los parámetros \n",
    "\n",
    "Si indicamos el nombre del parámetro al que asociar el valor a la hora de llamar a la función:"
   ]
  },
  {
   "cell_type": "code",
   "execution_count": null,
   "metadata": {},
   "outputs": [],
   "source": []
  },
  {
   "cell_type": "code",
   "execution_count": null,
   "metadata": {},
   "outputs": [
    {
     "name": "stdout",
     "output_type": "stream",
     "text": [
      "Hola Mundo\n",
      "Hola Mundo\n",
      "Que tal!! Mundo\n",
      "Hola Mundo\n",
      "Buen día Mundo\n",
      "Buen día Mundo\n",
      "Buen día Mundo\n"
     ]
    }
   ],
   "source": [
    "def saludar(nombre=\"Mundo\", mensaje='Hola'): \n",
    "    print (mensaje, nombre)\n",
    "\n"
   ]
  },
  {
   "cell_type": "code",
   "execution_count": null,
   "metadata": {},
   "outputs": [],
   "source": []
  },
  {
   "cell_type": "markdown",
   "metadata": {},
   "source": [
    "# Además las funciones pueden regresar valores\n",
    "\n",
    "Cuando una función, haga un retorno de datos, éstos, pueden ser asignados a una variable."
   ]
  },
  {
   "cell_type": "code",
   "execution_count": null,
   "metadata": {},
   "outputs": [],
   "source": []
  },
  {
   "cell_type": "code",
   "execution_count": null,
   "metadata": {},
   "outputs": [],
   "source": []
  },
  {
   "cell_type": "code",
   "execution_count": null,
   "metadata": {},
   "outputs": [
    {
     "name": "stdout",
     "output_type": "stream",
     "text": [
      "La media es  ab\n"
     ]
    }
   ],
   "source": [
    "def media_3 (a,b):\n",
    "    media = (a+b)\n",
    "    return media\n",
    "#media = media_3(3,5)\n",
    "media = media_3(\"a\",\"b\")\n",
    "print (\"La media es \",media)"
   ]
  },
  {
   "cell_type": "code",
   "execution_count": 40,
   "metadata": {},
   "outputs": [
    {
     "name": "stdout",
     "output_type": "stream",
     "text": [
      "5 es mayor a la media\n"
     ]
    }
   ],
   "source": [
    "if 5 > media_3(3,5):\n",
    "    print (\"5 es mayor a la media\")"
   ]
  },
  {
   "cell_type": "code",
   "execution_count": null,
   "metadata": {},
   "outputs": [],
   "source": []
  },
  {
   "cell_type": "markdown",
   "metadata": {},
   "source": [
    "# Ejercicio: \n",
    "\n",
    "Crea funciones para realizar cada una de las siguientes operaciones\n",
    "\n",
    "- a+b+c+d\n",
    "- $x^2$\n",
    "- Dada una lista de elementos calcular la media y desviacion estandar\n",
    "\n",
    "Calcular el promedio o media aritmética \n",
    "${\\displaystyle {\\overline {x}}={\\frac {1}{n}}\\sum _{i=1}^{n}x_{i}}$\n",
    "\n",
    "Calcular la desviación estándar $ \\sigma\\,\\!$\n",
    "\n",
    "$$\\sigma = \\sqrt{ \\frac{1}{n-1} \\sum _{i=1}^{n}(x_{i}-\\overline{x})^{2}} $$\n",
    "\n",
    "\n",
    "\n"
   ]
  },
  {
   "cell_type": "code",
   "execution_count": null,
   "metadata": {},
   "outputs": [],
   "source": []
  },
  {
   "cell_type": "code",
   "execution_count": null,
   "metadata": {},
   "outputs": [],
   "source": []
  },
  {
   "cell_type": "markdown",
   "metadata": {},
   "source": [
    "# El ámbito local nolocal y global\n",
    "\n",
    "Variables de **ámbito local**. Es decir, que los parámetros serán **variables locales**, a las cuáles **solo la función podrá acceder**:\n",
    "\n",
    "Si a la variable se le asigna **valor en algún nivel intermedio la variable se considera no local** y si se le **asigna en el programa principal** la variable se considera **global.**"
   ]
  },
  {
   "cell_type": "markdown",
   "metadata": {},
   "source": [
    "# Ámbito global"
   ]
  },
  {
   "cell_type": "code",
   "execution_count": null,
   "metadata": {},
   "outputs": [
    {
     "name": "stdout",
     "output_type": "stream",
     "text": [
      "El ámbito de la variable es global, valor  10\n",
      "También aquí conozco el valor. 10\n",
      "Y aquí también conozco 10\n"
     ]
    }
   ],
   "source": [
    "def funcion1 ():\n",
    "    print (\"El ámbito de la variable es global, valor \",variable_Global)\n",
    "    \n",
    "def funcion2():  \n",
    "    print (\"También aquí conozco el valor.\",variable_Global)\n",
    "\n",
    "#variable_Global = 10\n",
    "funcion1()\n",
    "funcion2()\n",
    "print (\"Y aquí también conozco\",variable_Global)"
   ]
  },
  {
   "cell_type": "code",
   "execution_count": 6,
   "metadata": {},
   "outputs": [],
   "source": [
    "variable_Global = 10"
   ]
  },
  {
   "cell_type": "markdown",
   "metadata": {},
   "source": [
    "\n",
    "### Si queremos asignar valor a una variable en una funcion, pero no queremos que Python la considere local, debemos declararla en la función como **global** "
   ]
  },
  {
   "cell_type": "code",
   "execution_count": null,
   "metadata": {},
   "outputs": [
    {
     "name": "stdout",
     "output_type": "stream",
     "text": [
      "El ámbito de la variable es global, valor  10\n",
      "El ámbito de la variable es global, valor  1\n",
      "También aquí conozco el valor. 2\n",
      "Y aquí también conozco 3\n"
     ]
    }
   ],
   "source": [
    "def funcion_0 ():\n",
    "    variable_Global = 10\n",
    "    print (\"El ámbito de la variable es global, valor \",variable_Global)\n",
    "\n",
    "def funcion_1 ():\n",
    "    global variable_Global\n",
    "    #variable_Global = 2\n",
    "    print (\"El ámbito de la variable es global, valor \",variable_Global)\n",
    "    variable_Global = 2\n",
    "    \n",
    "def funcion_2():  \n",
    "    global variable_Global\n",
    "    print (\"También aquí conozco el valor.\",variable_Global)\n",
    "    variable_Global = 3\n",
    "\n",
    "#variable_Global = 1\n",
    "#funcion_0()\n",
    "#funcion_1()\n",
    "#funcion_2()\n",
    "print (\"Y aquí también conozco\",variable_Global)"
   ]
  },
  {
   "cell_type": "code",
   "execution_count": null,
   "metadata": {},
   "outputs": [],
   "source": []
  },
  {
   "cell_type": "code",
   "execution_count": null,
   "metadata": {},
   "outputs": [],
   "source": []
  },
  {
   "cell_type": "markdown",
   "metadata": {},
   "source": [
    "# Ámbito local"
   ]
  },
  {
   "cell_type": "code",
   "execution_count": 4,
   "metadata": {},
   "outputs": [
    {
     "name": "stdout",
     "output_type": "stream",
     "text": [
      "El ámbito de la variable es local, valor  4 2\n"
     ]
    }
   ],
   "source": [
    "def funcion_3 (variable_Local1):\n",
    "    variable_Local2=2\n",
    "    print (\"El ámbito de la variable es local, valor \",variable_Local1,variable_Local2)\n",
    "\n",
    "def funcion_4 ():\n",
    "    print (\"Y aquí no la conozco\",variable_Local1,variable_Local2)\n",
    "\n",
    "funcion_3(4)\n",
    "#funcion_4 ()\n",
    "#print (\"Y aquí no la conozco\",variable_Local1,variable_Local2)"
   ]
  },
  {
   "cell_type": "code",
   "execution_count": 16,
   "metadata": {},
   "outputs": [
    {
     "ename": "UnboundLocalError",
     "evalue": "cannot access local variable 'valor' where it is not associated with a value",
     "output_type": "error",
     "traceback": [
      "\u001b[0;31m---------------------------------------------------------------------------\u001b[0m",
      "\u001b[0;31mUnboundLocalError\u001b[0m                         Traceback (most recent call last)",
      "Cell \u001b[0;32mIn[16], line 10\u001b[0m\n\u001b[1;32m      6\u001b[0m     valor \u001b[38;5;241m=\u001b[39m \u001b[38;5;241m20\u001b[39m\n\u001b[1;32m      7\u001b[0m     \u001b[38;5;28mprint\u001b[39m(\u001b[38;5;124mf\u001b[39m\u001b[38;5;124m'\u001b[39m\u001b[38;5;124mValor desués es es \u001b[39m\u001b[38;5;132;01m{\u001b[39;00mvalor\u001b[38;5;132;01m}\u001b[39;00m\u001b[38;5;124m'\u001b[39m)\n\u001b[0;32m---> 10\u001b[0m funcion_con_error()\n",
      "Cell \u001b[0;32mIn[16], line 5\u001b[0m, in \u001b[0;36mfuncion_con_error\u001b[0;34m()\u001b[0m\n\u001b[1;32m      3\u001b[0m \u001b[38;5;28;01mdef\u001b[39;00m \u001b[38;5;21mfuncion_con_error\u001b[39m():\n\u001b[0;32m----> 5\u001b[0m     \u001b[38;5;28mprint\u001b[39m(\u001b[38;5;124mf\u001b[39m\u001b[38;5;124m'\u001b[39m\u001b[38;5;124mValor antes es es \u001b[39m\u001b[38;5;132;01m{\u001b[39;00mvalor\u001b[38;5;132;01m}\u001b[39;00m\u001b[38;5;124m'\u001b[39m)\n\u001b[1;32m      6\u001b[0m     valor \u001b[38;5;241m=\u001b[39m \u001b[38;5;241m20\u001b[39m\n\u001b[1;32m      7\u001b[0m     \u001b[38;5;28mprint\u001b[39m(\u001b[38;5;124mf\u001b[39m\u001b[38;5;124m'\u001b[39m\u001b[38;5;124mValor desués es es \u001b[39m\u001b[38;5;132;01m{\u001b[39;00mvalor\u001b[38;5;132;01m}\u001b[39;00m\u001b[38;5;124m'\u001b[39m)\n",
      "\u001b[0;31mUnboundLocalError\u001b[0m: cannot access local variable 'valor' where it is not associated with a value"
     ]
    }
   ],
   "source": [
    "valor = 10\n",
    "\n",
    "def funcion_con_error():\n",
    "\n",
    "    print(f'Valor antes es es {valor}')\n",
    "    valor = 20\n",
    "    print(f'Valor desués es es {valor}')\n",
    "\n",
    "\n",
    "funcion_con_error()\n"
   ]
  },
  {
   "cell_type": "markdown",
   "metadata": {},
   "source": [
    "# Ámbito nolocal"
   ]
  },
  {
   "cell_type": "code",
   "execution_count": null,
   "metadata": {},
   "outputs": [],
   "source": []
  },
  {
   "cell_type": "markdown",
   "metadata": {},
   "source": [
    "### Si queremos asignar valor a una variable en una funcion, pero no queremos que Python la considere local, debemos declararla en la función como **nonlocal** "
   ]
  },
  {
   "cell_type": "code",
   "execution_count": null,
   "metadata": {},
   "outputs": [
    {
     "name": "stdout",
     "output_type": "stream",
     "text": [
      "2\n",
      "3\n",
      "1\n"
     ]
    }
   ],
   "source": [
    "def funcion_5():\n",
    "    def funcion_6():\n",
    "#        nonlocal a\n",
    "        print(a)\n",
    "        a=3\n",
    "        return\n",
    "\n",
    "    a = 2\n",
    "    funcion_6()\n",
    "    print(a)\n",
    "    return\n",
    "\n",
    "a = 1\n",
    "funcion_5()\n",
    "print(a)"
   ]
  },
  {
   "cell_type": "code",
   "execution_count": null,
   "metadata": {},
   "outputs": [],
   "source": []
  },
  {
   "cell_type": "code",
   "execution_count": 25,
   "metadata": {},
   "outputs": [
    {
     "name": "stdout",
     "output_type": "stream",
     "text": [
      "Valor en función padre antes es 10\n",
      "Valor en función anidada es 20\n",
      "Valor en función padre después es 20\n"
     ]
    }
   ],
   "source": [
    "def funcion_padre():\n",
    "    valor = 10\n",
    "\n",
    "    def funcion_anidada():\n",
    "        nonlocal valor\n",
    "        valor = 20\n",
    "        print(f'Valor en función anidada es {valor}')\n",
    "\n",
    "    print(f'Valor en función padre antes es {valor}')\n",
    "    funcion_anidada()\n",
    "    print(f'Valor en función padre después es {valor}')\n",
    "\n",
    "funcion_padre()"
   ]
  },
  {
   "cell_type": "code",
   "execution_count": null,
   "metadata": {},
   "outputs": [],
   "source": []
  },
  {
   "cell_type": "code",
   "execution_count": 26,
   "metadata": {},
   "outputs": [
    {
     "name": "stdout",
     "output_type": "stream",
     "text": [
      "Ambito global: 30\n",
      "Valor en función padre antes es 10\n",
      "Valor en función anidada es 20\n",
      "Valor en función padre después es 20\n",
      "Ambito global: 30\n"
     ]
    }
   ],
   "source": [
    "def funcion_padre():\n",
    "    valor = 10\n",
    "\n",
    "    def funcion_anidada():\n",
    "        nonlocal valor\n",
    "        valor = 20\n",
    "        print(f'Valor en función anidada es {valor}')\n",
    "\n",
    "    print(f'Valor en función padre antes es {valor}')\n",
    "    funcion_anidada()\n",
    "    print(f'Valor en función padre después es {valor}')\n",
    "\n",
    "valor = 30\n",
    "print(f\"Ambito global: {valor}\")\n",
    "funcion_padre()\n",
    "print(f\"Ambito global: {valor}\")"
   ]
  },
  {
   "cell_type": "code",
   "execution_count": null,
   "metadata": {},
   "outputs": [
    {
     "name": "stdout",
     "output_type": "stream",
     "text": [
      "{3, 4, 5, 6}\n",
      "{1, 2, 3, 4}\n",
      "{1, 2, 5, 6}\n"
     ]
    }
   ],
   "source": [
    "a = {1,2,3,4}\n",
    "b = {3,4,5,6}\n",
    "print(a and b)\n",
    "print(a or b)\n",
    "print( a ^ b)\n"
   ]
  },
  {
   "cell_type": "code",
   "execution_count": null,
   "metadata": {},
   "outputs": [
    {
     "data": {
      "text/plain": [
       "{'In',\n",
       " 'Out',\n",
       " '_',\n",
       " '_11',\n",
       " '_12',\n",
       " '_14',\n",
       " '_15',\n",
       " '_16',\n",
       " '_17',\n",
       " '_18',\n",
       " '_21',\n",
       " '_22',\n",
       " '_23',\n",
       " '_24',\n",
       " '_25',\n",
       " '_27',\n",
       " '_29',\n",
       " '_4',\n",
       " '_8',\n",
       " '_9',\n",
       " '__',\n",
       " '__DW_SCOPE__',\n",
       " '___',\n",
       " '__builtin__',\n",
       " '__builtins__',\n",
       " '__doc__',\n",
       " '__loader__',\n",
       " '__name__',\n",
       " '__package__',\n",
       " '__spec__',\n",
       " '__vsc_ipynb_file__',\n",
       " '_dh',\n",
       " '_i',\n",
       " '_i1',\n",
       " '_i10',\n",
       " '_i11',\n",
       " '_i12',\n",
       " '_i13',\n",
       " '_i14',\n",
       " '_i15',\n",
       " '_i16',\n",
       " '_i17',\n",
       " '_i18',\n",
       " '_i19',\n",
       " '_i2',\n",
       " '_i20',\n",
       " '_i21',\n",
       " '_i22',\n",
       " '_i23',\n",
       " '_i24',\n",
       " '_i25',\n",
       " '_i26',\n",
       " '_i27',\n",
       " '_i28',\n",
       " '_i29',\n",
       " '_i3',\n",
       " '_i4',\n",
       " '_i5',\n",
       " '_i6',\n",
       " '_i7',\n",
       " '_i8',\n",
       " '_i9',\n",
       " '_ih',\n",
       " '_ii',\n",
       " '_iii',\n",
       " '_oh',\n",
       " 'a',\n",
       " 'exit',\n",
       " 'funcion1',\n",
       " 'funcion2',\n",
       " 'funcion_0',\n",
       " 'funcion_1',\n",
       " 'funcion_2',\n",
       " 'funcion_5',\n",
       " 'funcion_padre',\n",
       " 'get_ipython',\n",
       " 'media_2',\n",
       " 'media_3',\n",
       " 'open',\n",
       " 'quit',\n",
       " 'valor',\n",
       " 'variable_Global',\n",
       " 'x',\n",
       " 'y'}"
      ]
     },
     "execution_count": 29,
     "metadata": {},
     "output_type": "execute_result"
    }
   ],
   "source": [
    "\n",
    "set(locals()) and set(globals())"
   ]
  },
  {
   "cell_type": "markdown",
   "metadata": {},
   "source": [
    "\n",
    "# Ejemplo de  clausura o función cerrada.(Closure)\n",
    "\n",
    "Un **closure** en Python es una función interna que recuerda y puede acceder a las variables del ámbito de la función externa, incluso después de que la función externa haya finalizado su ejecución.\n",
    "\n",
    "Un **closure** permite que una función interna acceda a las variables de la función externa, aunque la función externa ya haya terminado. Es útil para crear funciones con comportamiento personalizado y mantener estado entre llamadas.\n",
    "\n"
   ]
  },
  {
   "cell_type": "code",
   "execution_count": 6,
   "metadata": {},
   "outputs": [
    {
     "name": "stdout",
     "output_type": "stream",
     "text": [
      "10\n",
      "15\n"
     ]
    }
   ],
   "source": [
    "def crear_multiplicador(factor):\n",
    "    def multiplicar(numero):\n",
    "        return numero * factor\n",
    "    return multiplicar\n",
    "\n",
    "doble = crear_multiplicador(2)\n",
    "triple = crear_multiplicador(3)\n",
    "\n",
    "print(doble(5))   # 10\n",
    "print(triple(5))  # 15"
   ]
  },
  {
   "cell_type": "markdown",
   "metadata": {},
   "source": [
    "En este ejemplo, `doble` y `triple` son closures que recuerdan el valor de `factor` con el que fueron creados."
   ]
  },
  {
   "cell_type": "code",
   "execution_count": 8,
   "metadata": {},
   "outputs": [
    {
     "name": "stdout",
     "output_type": "stream",
     "text": [
      "4\n",
      "9\n",
      "16\n",
      "16\n",
      "4\n"
     ]
    }
   ],
   "source": [
    "def crear_contador():\n",
    "    contador = 0\n",
    "    def incrementar(x):\n",
    "        nonlocal contador\n",
    "        contador += 1 \n",
    "        x = x**2\n",
    "        return x \n",
    "\n",
    "    def get_contador():\n",
    "        return contador\n",
    "\n",
    "    return incrementar, get_contador\n",
    "\n",
    "incrementar, obtener_contador = crear_contador()\n",
    "\n",
    "print(incrementar(2))  # 4\n",
    "print(incrementar(3))  # 9\n",
    "print(incrementar(4))  # 16\n",
    "print(incrementar(4))  # 16\n",
    "print(obtener_contador())  # 3"
   ]
  },
  {
   "cell_type": "code",
   "execution_count": null,
   "metadata": {},
   "outputs": [],
   "source": []
  },
  {
   "cell_type": "markdown",
   "metadata": {},
   "source": [
    "# También es posible, definir funciones con un número variable de argumentos\n",
    "\n",
    "Para definir funciones con un número variable de argumentos colocamos un último parámetro para la función cuyo nombre debe precederse de un signo *:\n",
    "\n",
    "Se suele utilizar el nombre **largs para el parámetro formal**, por List Arguments (argumentos con clave)."
   ]
  },
  {
   "cell_type": "code",
   "execution_count": 9,
   "metadata": {},
   "outputs": [
    {
     "name": "stdout",
     "output_type": "stream",
     "text": [
      "1\n",
      "2\n",
      "<class 'tuple'>\n",
      "(3, 4, 'hola', 'Mundo')\n",
      "3\n",
      "4\n",
      "hola\n",
      "Mundo\n"
     ]
    }
   ],
   "source": [
    "def varios(param1, param2, *otros):\n",
    "    #print (type(otros))\n",
    "    print(param1)\n",
    "    print(param2)\n",
    "    print(type(otros))\n",
    "    print(otros)\n",
    "    for val in otros:\n",
    "        print (val)\n",
    "\n",
    "        \n",
    "#varios(1, 2)\n",
    "#varios(1, 2, 3)\n",
    "#varios(1, 2, 3, 4)\n",
    "varios(1, 2, 3, 4,\"hola\",\"Mundo\")"
   ]
  },
  {
   "cell_type": "markdown",
   "metadata": {},
   "source": [
    "### <font color = AB1010>Nota:</font> Si una función espera recibir parámetros fijos y arbitrarios, los arbitrarios siempre deben suceder a los fijos."
   ]
  },
  {
   "cell_type": "code",
   "execution_count": null,
   "metadata": {},
   "outputs": [],
   "source": []
  },
  {
   "cell_type": "markdown",
   "metadata": {},
   "source": [
    "# Argumentos variables clave-valor (keyword arguments)\n",
    "\n",
    "También se puede preceder el nombre del último parámetro con `**`, en cuyo caso en lugar de una tupla se utilizaría un **diccionario**.  \n",
    "\n",
    "Las claves de este diccionario serían los nombres de los parámetros indicados al llamar a la función y los valores del diccionario, los valores asociados a estos parámetros.\n",
    "\n",
    "Se suele utilizar el nombre **kwargs** para el parámetro formal, por *Keyword Arguments* (argumentos con clave).\n",
    "\n",
    "- `*args` se utiliza para enviar una lista de argumentos de longitud variable sin clave a la función.\n",
    "- `**kwargs` permite pasar argumentos de longitud variable con clave (keyworded) a una función."
   ]
  },
  {
   "cell_type": "code",
   "execution_count": 10,
   "metadata": {},
   "outputs": [
    {
     "name": "stdout",
     "output_type": "stream",
     "text": [
      "nombre Michel {'nombre': 'Michel', 'apellido': 'Lopez', 'a': 43, 'val': 456, 'tmp': 68} Michel\n",
      "apellido Lopez {'nombre': 'Michel', 'apellido': 'Lopez', 'a': 43, 'val': 456, 'tmp': 68} Michel\n",
      "a 43 {'nombre': 'Michel', 'apellido': 'Lopez', 'a': 43, 'val': 456, 'tmp': 68} Michel\n",
      "val 456 {'nombre': 'Michel', 'apellido': 'Lopez', 'a': 43, 'val': 456, 'tmp': 68} Michel\n",
      "tmp 68 {'nombre': 'Michel', 'apellido': 'Lopez', 'a': 43, 'val': 456, 'tmp': 68} Michel\n",
      "<class 'dict'>\n"
     ]
    }
   ],
   "source": [
    "def Nombres(**kwargs):\n",
    "    for key in kwargs:\n",
    "        print (key,kwargs[key],kwargs,kwargs[\"nombre\"])\n",
    "    print(type(kwargs))\n",
    "\n",
    "Nombres(nombre=\"Michel\",apellido=\"Lopez\",a=43,val=456,tmp=68)  "
   ]
  },
  {
   "cell_type": "code",
   "execution_count": 11,
   "metadata": {},
   "outputs": [
    {
     "name": "stdout",
     "output_type": "stream",
     "text": [
      "50\n",
      "40\n",
      "10\n",
      "200\n"
     ]
    }
   ],
   "source": [
    "def Area(**kwargs):\n",
    "    Base = kwargs.get(\"base\",2)\n",
    "    Altura = kwargs.get(\"altura\",5)\n",
    "    return Base*Altura\n",
    "    \n",
    "print (Area (base=10))\n",
    "print (Area (altura=20))\n",
    "print (Area ())\n",
    "print (Area (base=10,altura=20))"
   ]
  },
  {
   "cell_type": "code",
   "execution_count": 12,
   "metadata": {},
   "outputs": [
    {
     "name": "stdout",
     "output_type": "stream",
     "text": [
      "c\n",
      "error\n"
     ]
    }
   ],
   "source": [
    "def mi_switch(i):\n",
    "    return { 0 :\"a\",\n",
    "                1 :\"b\",\n",
    "                2 :\"c\",\n",
    "                3 :\"d\"}.get(i,\"error\")\n",
    "\n",
    "print (mi_switch(2))\n",
    "print (mi_switch(6))"
   ]
  },
  {
   "cell_type": "code",
   "execution_count": 13,
   "metadata": {},
   "outputs": [
    {
     "name": "stdout",
     "output_type": "stream",
     "text": [
      "c\n",
      "error\n"
     ]
    }
   ],
   "source": [
    "def mi_switch2(i):\n",
    "    match i:\n",
    "        case 0: return \"a\"\n",
    "        case 1: return \"b\"\n",
    "        case 2: return \"c\"\n",
    "        case 3: return \"d\"\n",
    "        case _ : return \"error\"\n",
    "        \n",
    "\n",
    "print (mi_switch2(2))\n",
    "print (mi_switch2(6))"
   ]
  },
  {
   "cell_type": "markdown",
   "metadata": {},
   "source": [
    "---\n",
    "\n",
    "## Ejercicio\n",
    "\n",
    "Genera un programa que:\n",
    "\n",
    "1. Pregunte al usuario qué operación matemática quiere realizar (`suma`, `resta`, `multiplicación`, `división`).\n",
    "2. Solicite dos valores al usuario.\n",
    "3. Realice la operación seleccionada con los valores ingresados y muestre el resultado.\n",
    "\n",
    "--- Genera un programa que pregunte al usuario que operacion matematica quiere realizar y que le pida 2 valores a realizar esa operacion"
   ]
  },
  {
   "cell_type": "code",
   "execution_count": 14,
   "metadata": {},
   "outputs": [
    {
     "name": "stdout",
     "output_type": "stream",
     "text": [
      "4\n",
      "1\n"
     ]
    }
   ],
   "source": [
    "def mi_switch2(op):\n",
    "    return { \"suma\" :lambda a,b: a+b,\n",
    "            \"mul\" :lambda a,b: a*b,\n",
    "            \"div\" :lambda a,b: a/b,\n",
    "            \"resta\" :lambda a,b: a-b}.get(op,\"error\")\n",
    "\n",
    "print (mi_switch2(\"suma\")(2,2))\n",
    "print (mi_switch2(\"resta\")(3,2))"
   ]
  },
  {
   "cell_type": "code",
   "execution_count": null,
   "metadata": {},
   "outputs": [],
   "source": [
    "match "
   ]
  },
  {
   "cell_type": "markdown",
   "metadata": {},
   "source": [
    "# Todo junto\n"
   ]
  },
  {
   "cell_type": "code",
   "execution_count": 15,
   "metadata": {},
   "outputs": [
    {
     "name": "stdout",
     "output_type": "stream",
     "text": [
      "parametro_fijo Hola\n",
      "parametro_fijo2 1\n",
      "arbitrarios: 2\n",
      "arbitrarios: 3\n",
      "El valor de Nombre es Michel\n",
      "El valor de Apellido es Lopez\n"
     ]
    }
   ],
   "source": [
    "def recorrer_parametros_arbitrarios(parametro_fijo, parametro_fijo2=\"Mundo\",  *arbitrarios, **kwords): \n",
    "    print (\"parametro_fijo\",parametro_fijo)\n",
    "    print (\"parametro_fijo2\",parametro_fijo2)\n",
    "    for argumento in arbitrarios: \n",
    "        print (\"arbitrarios:\",argumento) \n",
    " \n",
    "    # Los argumentos arbitrarios tipo clave, se recorren como los diccionarios \n",
    "    for clave in kwords: \n",
    "        print (\"El valor de\", clave, \"es\", kwords[clave])\n",
    "        \n",
    "        \n",
    "recorrer_parametros_arbitrarios(\"Hola\",1,2,3,Nombre =\"Michel\",Apellido=\"Lopez\")"
   ]
  },
  {
   "cell_type": "code",
   "execution_count": null,
   "metadata": {
    "collapsed": true
   },
   "outputs": [],
   "source": []
  },
  {
   "cell_type": "code",
   "execution_count": null,
   "metadata": {},
   "outputs": [],
   "source": []
  },
  {
   "cell_type": "markdown",
   "metadata": {},
   "source": [
    "# Desempaquetado de parámetros\n",
    "\n",
    "Puede ocurrir además, una situación inversa a la anterior. Es decir, que la función espere una lista fija de parámetros, pero que éstos, en vez de estar disponibles de forma separada, se encuentren contenidos en una lista o tupla. \n",
    "\n",
    "En este caso, el signo asterisco (*) deberá preceder al nombre de la lista o tupla que es pasada como parámetro durante la llamada a la función:"
   ]
  },
  {
   "cell_type": "code",
   "execution_count": 16,
   "metadata": {},
   "outputs": [
    {
     "name": "stdout",
     "output_type": "stream",
     "text": [
      "6\n",
      "6\n",
      "6\n"
     ]
    }
   ],
   "source": [
    "def suma(a,b,c):\n",
    "    \n",
    "    print (a+b+c)\n",
    "\n",
    "a= [1,2,3]    \n",
    "suma(*a)  \n",
    "b= (1,2,3)\n",
    "suma(*b)  \n",
    "d = {\"a\":1,\"b\":2,\"c\":3}\n",
    "suma(**d) "
   ]
  },
  {
   "cell_type": "code",
   "execution_count": null,
   "metadata": {},
   "outputs": [],
   "source": []
  },
  {
   "cell_type": "code",
   "execution_count": 31,
   "metadata": {},
   "outputs": [],
   "source": [
    "def suma ( a,b, /,c=1,d=2,*,f=4,g=1):\n",
    "    print(\"a:\",a)\n",
    "    print(\"b:\",b)\n",
    "    print(\"c:\",c)\n",
    "    print(\"d:\",d)\n",
    "    print(\"f:\",f)\n",
    "    print(\"g:\",g)\n",
    "    return a+b"
   ]
  },
  {
   "cell_type": "code",
   "execution_count": 36,
   "metadata": {},
   "outputs": [],
   "source": [
    "#suma(1,2,3,4,5,6) #error"
   ]
  },
  {
   "cell_type": "code",
   "execution_count": 38,
   "metadata": {},
   "outputs": [],
   "source": [
    "#suma(1,2,3,4,5,g=2) # error"
   ]
  },
  {
   "cell_type": "code",
   "execution_count": 40,
   "metadata": {},
   "outputs": [],
   "source": [
    "#suma(1,2,3,4,f=5,g=2) #valido"
   ]
  },
  {
   "cell_type": "code",
   "execution_count": 42,
   "metadata": {},
   "outputs": [],
   "source": [
    "#suma(1,2,3,4,g=5,f=2) #valido"
   ]
  },
  {
   "cell_type": "code",
   "execution_count": 49,
   "metadata": {},
   "outputs": [],
   "source": [
    "#suma(1,2,3,d=4,g=5,f=2) #valido"
   ]
  },
  {
   "cell_type": "code",
   "execution_count": 46,
   "metadata": {},
   "outputs": [],
   "source": [
    "#suma(1,2,d=3,c=4,g=5,f=2) #valido"
   ]
  },
  {
   "cell_type": "code",
   "execution_count": 48,
   "metadata": {},
   "outputs": [],
   "source": [
    "#suma(1,b=2,d=3,c=4,g=5,f=2) #error"
   ]
  },
  {
   "cell_type": "code",
   "execution_count": 51,
   "metadata": {},
   "outputs": [],
   "source": [
    "#suma(b=1,a=2,d=3,c=4,g=5,f=2) #error"
   ]
  },
  {
   "cell_type": "code",
   "execution_count": 53,
   "metadata": {},
   "outputs": [],
   "source": [
    "#def suma ( a,b, /,c=1,d=2,*,f=4,g=1):\n",
    "#suma(1,2,d=3,c=4,g=5,f=2) "
   ]
  },
  {
   "cell_type": "code",
   "execution_count": 70,
   "metadata": {},
   "outputs": [],
   "source": [
    "def suma2 ( a,b, / , *args ,c=1,d=2, **kwars):\n",
    "    print(a,b,args,c,d,kwars)"
   ]
  },
  {
   "cell_type": "code",
   "execution_count": 74,
   "metadata": {},
   "outputs": [
    {
     "name": "stdout",
     "output_type": "stream",
     "text": [
      "1 2 (3, 4) 1 2 {'f': 2, 'g': 3}\n"
     ]
    }
   ],
   "source": [
    "suma2(1,2,3,4,f=2,g=3)"
   ]
  },
  {
   "cell_type": "markdown",
   "metadata": {},
   "source": [
    "# DEFAULT VS POSITIONAL VS KEYWORD ARGUMENTS"
   ]
  },
  {
   "attachments": {
    "image.png": {
     "image/png": "[encoded data removed]"
    }
   },
   "cell_type": "markdown",
   "metadata": {},
   "source": [
    "![image.png](attachment:image.png)\n",
    "\n",
    "<div style=\"font-size: x-small;\"> https://builtin.com/software-engineering-perspectives/arguments-in-python </div>\n"
   ]
  },
  {
   "attachments": {
    "image.png": {
     "image/png": "[encoded data removed]"
    }
   },
   "cell_type": "markdown",
   "metadata": {},
   "source": [
    "![image.png](attachment:image.png)"
   ]
  },
  {
   "cell_type": "code",
   "execution_count": 17,
   "metadata": {},
   "outputs": [
    {
     "name": "stdout",
     "output_type": "stream",
     "text": [
      "10\n"
     ]
    }
   ],
   "source": [
    "def add(a,b,/,c,*,d):\n",
    "    return a+b+c+d\n",
    "\n",
    "print (add(3,4,1,d=2))"
   ]
  },
  {
   "cell_type": "markdown",
   "metadata": {},
   "source": [
    "### Firma de la función: `def add(a, b, /, c, *, d)`\n",
    "\n",
    "- <span style=\"color:#FFB300\"><b>a, b</b></span>: <span style=\"color:#FFFFFF\">Parámetros posicionales obligatorios. Deben proporcionarse por posición, no por nombre.</span>  \n",
    "- <span style=\"color:#00BFFF\"><b>/</b></span>: <span style=\"color:#FFFFFF\">Indica que todos los parámetros antes de la barra deben ser posicionales.</span>  \n",
    "- <span style=\"color:#7FFF00\"><b>c</b></span>: <span style=\"color:#FFFFFF\">Parámetro que puede ser posicional o por nombre (keyword).</span>  \n",
    "- <span style=\"color:#FF69B4\"><b>*</b></span>: <span style=\"color:#FFFFFF\">Indica que todos los parámetros después del asterisco deben ser pasados por nombre.</span>  \n",
    "- <span style=\"color:#00FFAA\"><b>d</b></span>: <span style=\"color:#FFFFFF\">Parámetro obligatorio por nombre (keyword-only).</span>  \n",
    "\n",
    "**Ejemplo de llamada válida:**\n",
    "```python\n",
    "add(3, 4, 1, d=2)\n",
    "```\n",
    "\n",
    "**Resumen:**\n",
    "- `a`, `b`: solo posicionales\n",
    "- `c`: posicional o keyword\n",
    "- `d`: solo keyword"
   ]
  },
  {
   "cell_type": "code",
   "execution_count": null,
   "metadata": {},
   "outputs": [],
   "source": []
  },
  {
   "cell_type": "markdown",
   "metadata": {},
   "source": [
    "\n",
    "## Ejemplo de función con todos los tipos de parámetros\n",
    "\n",
    "La siguiente función utiliza:\n",
    "\n",
    "- Parámetros posicionales obligatorios (`/`)\n",
    "- Parámetros arbitrarios (`*args`)\n",
    "- Parámetros por nombre obligatorios (`*`)\n",
    "- Parámetros arbitrarios de palabra clave (`**kwars`)\n",
    "\n",
    "```python\n",
    "def ejemplo(a, b, /, *args, c=10, d=20, *, e=30, f=40, **kwars):\n",
    "    print(\"a:\", a)                # Posicional obligatorio\n",
    "    print(\"b:\", b)                # Posicional obligatorio\n",
    "    print(\"args:\", args)          # Arbitrarios posicionales\n",
    "    print(\"c:\", c)                # Default, puede ser posicional o por nombre\n",
    "    print(\"d:\", d)                # Default, puede ser posicional o por nombre\n",
    "    print(\"e:\", e)                # Solo por nombre\n",
    "    print(\"f:\", f)                # Solo por nombre\n",
    "    print(\"kwars:\", kwars)        # Arbitrarios por nombre\n",
    "\n",
    "# Ejemplo de llamada:\n",
    "ejemplo(1, 2, 3, 4, 5, c=100, d=200, e=300, f=400, x=500, y=600)\n",
    "```\n",
    "\n",
    "**Salida esperada:**\n",
    "```\n",
    "a: 1\n",
    "b: 2\n",
    "args: (3, 4, 5)\n",
    "c: 100\n",
    "d: 200\n",
    "e: 300\n",
    "f: 400\n",
    "kwars: {'x': 500, 'y': 600}\n",
    "```\n"
   ]
  },
  {
   "cell_type": "code",
   "execution_count": null,
   "metadata": {},
   "outputs": [],
   "source": []
  },
  {
   "cell_type": "markdown",
   "metadata": {},
   "source": [
    "# <span style=\"color:#FFD700; background-color:#222; padding:4px 8px; border-radius:6px;\">Resumen: Formas de pasar parámetros a funciones en Python</span>"
   ]
  },
  {
   "cell_type": "markdown",
   "metadata": {},
   "source": [
    "\n",
    "\n",
    "En Python, puedes pasar parámetros a funciones de varias maneras. Aquí tienes un resumen con ejemplos:\n",
    "\n",
    "#### 1. **Por posición**\n",
    "El orden importa.\n",
    "```python\n",
    "def saludar(nombre, edad):\n",
    "    print(f\"Hola {nombre}, tienes {edad} años.\")\n",
    "\n",
    "saludar(\"Ana\", 25)\n",
    "```\n",
    "\n",
    "#### 2. **Por nombre (keyword arguments)**\n",
    "Puedes especificar el nombre del parámetro.\n",
    "```python\n",
    "saludar(edad=25, nombre=\"Ana\")\n",
    "```\n",
    "\n",
    "#### 3. **Valores por defecto**\n",
    "Puedes definir valores por defecto para los parámetros.\n",
    "```python\n",
    "def saludar(nombre, edad=18):\n",
    "    print(f\"Hola {nombre}, tienes {edad} años.\")\n",
    "\n",
    "saludar(\"Luis\")         # Usa edad=18\n",
    "saludar(\"Luis\", 30)     # Usa edad=30\n",
    "```\n",
    "\n",
    "#### 4. **Número variable de argumentos posicionales (`*args`)**\n",
    "Recibe una tupla con todos los argumentos extra.\n",
    "```python\n",
    "def sumar(*numeros):\n",
    "    return sum(numeros)\n",
    "\n",
    "sumar(1, 2, 3)  # Resultado: 6\n",
    "```\n",
    "\n",
    "#### 5. **Número variable de argumentos nombrados (`**kwargs`)**\n",
    "Recibe un diccionario con todos los argumentos extra nombrados.\n",
    "```python\n",
    "def mostrar_info(**datos):\n",
    "    print(datos)\n",
    "\n",
    "mostrar_info(nombre=\"Ana\", edad=25)\n",
    "```\n",
    "\n",
    "#### 6. **Argumentos sólo posicionales (Python 3.8+)**\n",
    "Usando `/` en la definición.\n",
    "```python\n",
    "def f(a, b, /, c):\n",
    "    print(a, b, c)\n",
    "\n",
    "f(1, 2, c=3)\n",
    "```\n",
    "\n",
    "#### 7. **Argumentos sólo nombrados**\n",
    "Usando `*` en la definición.\n",
    "```python\n",
    "def f(a, *, b):\n",
    "    print(a, b)\n",
    "\n",
    "f(1, b=2)\n",
    "```\n",
    "\n",
    "#### 8. **Desempaquetado de colecciones**\n",
    "Puedes pasar listas, tuplas o diccionarios usando `*` o `**`.\n",
    "```python\n",
    "def sumar(a, b, c):\n",
    "    return a + b + c\n",
    "\n",
    "valores = [1, 2, 3]\n",
    "sumar(*valores)  # Resultado: 6\n",
    "\n",
    "datos = {'a': 1, 'b': 2, 'c': 3}\n",
    "sumar(**datos)   # Resultado: 6\n",
    "```\n",
    "\n",
    "---\n",
    "\n",
    "**Resumen:**  \n",
    "- Por posición  \n",
    "- Por nombre  \n",
    "- Valores por defecto  \n",
    "- `*args` (posicionales variables)  \n",
    "- `**kwargs` (nombrados variables)  \n",
    "- Sólo posicionales (`/`)  \n",
    "- Sólo nombrados (`*`)  \n",
    "- Desempaquetado de colecciones (`*`, `**`)"
   ]
  },
  {
   "cell_type": "code",
   "execution_count": null,
   "metadata": {},
   "outputs": [],
   "source": []
  },
  {
   "cell_type": "markdown",
   "metadata": {},
   "source": [
    "# Argumentos solo posicionales y solo nombrados en Python\n",
    "\n",
    "#### **Solo posicionales (`/`)**\n",
    "\n",
    "Cuando defines una función usando `/` en la lista de parámetros, todos los argumentos antes del `/` **solo pueden pasarse por posición**, no por nombre.\n",
    "\n",
    "**Ejemplo:**\n",
    "```python\n",
    "def f(a, b, /, c):\n",
    "    print(a, b, c)\n",
    "\n",
    "f(1, 2, c=3)   # Correcto\n",
    "f(a=1, b=2, c=3)  # Error: a y b deben ser posicionales\n",
    "```\n",
    "Esto es útil para asegurar que ciertos parámetros no se pasen por nombre, lo que puede ayudar a mantener la compatibilidad o claridad en la API.\n",
    "\n",
    "---\n",
    "\n",
    "#### **Solo nombrados (`*`)**\n",
    "\n",
    "Cuando defines una función usando `*` en la lista de parámetros, todos los argumentos después del `*` **solo pueden pasarse por nombre** (keyword arguments).\n",
    "\n",
    "**Ejemplo:**\n",
    "```python\n",
    "def f(a, *, b):\n",
    "    print(a, b)\n",
    "\n",
    "f(1, b=2)      # Correcto\n",
    "f(1, 2)        # Error: b debe ser nombrado\n",
    "```\n",
    "Esto es útil para funciones con muchos parámetros, donde quieres obligar al usuario a especificar ciertos argumentos por nombre para mayor legibilidad y evitar errores.\n",
    "\n",
    "---\n",
    "\n",
    "**Resumen:**\n",
    "- `/` → Todo antes del `/` es solo posicional.\n",
    "- `*` → Todo después del `*` es solo nombrado.\n",
    "- Puedes combinar ambos para controlar cómo se pasan los argumentos a tus funciones."
   ]
  },
  {
   "cell_type": "code",
   "execution_count": null,
   "metadata": {},
   "outputs": [],
   "source": []
  },
  {
   "cell_type": "markdown",
   "metadata": {},
   "source": [
    "### <span style=\"color:#FF1493; background-color:#222; padding:4px 8px; border-radius:6px;\">Nota: No puedes tener ambos *args y * en la misma firma.:</span>  \n",
    "\n",
    "\n"
   ]
  },
  {
   "cell_type": "markdown",
   "metadata": {},
   "source": [
    "Cuando defines una función como `def f(x, y, /, z, *args, a, b, **kwargs):`, el parámetro <span style=\"color:#FF1493\"><b>*args</b></span> tiene dos propósitos:\n",
    "\n",
    "1. **Captura argumentos posicionales adicionales:**  \n",
    "    Todo argumento posicional extra después de `z` se agrupa en la tupla `args`.\n",
    "\n",
    "2. **Actúa como separador de argumentos solo nombrados:**  \n",
    "    Todo parámetro definido después de `*args` (como `a` y `b`) **solo puede pasarse por nombre** (keyword arguments), igual que si usaras solo `*`.\n",
    "\n",
    "**Ejemplo:**\n",
    "```python\n",
    "def f(x, y, /, z, *args, a, b, **kwargs):\n",
    "     print(x, y, z)\n",
    "     print(args)\n",
    "     print(a, b)\n",
    "     print(kwargs)\n",
    "\n",
    "f(1, 2, 3, 4, 5, a=6, b=7, c=8)\n",
    "```\n",
    "- `x`, `y`: solo posicionales\n",
    "- `z`: posicional o por nombre\n",
    "- `args`: tupla con argumentos posicionales extra (`4, 5`)\n",
    "- `a`, `b`: solo por nombre\n",
    "- `kwargs`: diccionario con argumentos nombrados extra (`c=8`)\n",
    "\n",
    "**Resumen:**  \n",
    "`*args` funciona como separador igual que `*`, pero además captura argumentos posicionales adicionales. Todo parámetro después de `*args` debe ser pasado por nombre."
   ]
  },
  {
   "cell_type": "code",
   "execution_count": null,
   "metadata": {},
   "outputs": [],
   "source": []
  },
  {
   "cell_type": "code",
   "execution_count": 25,
   "metadata": {},
   "outputs": [
    {
     "name": "stdout",
     "output_type": "stream",
     "text": [
      "x: 1\n",
      "y: 2\n",
      "z: 3\n",
      "args: (4, 5, 6)\n",
      "a: 7\n",
      "b: 8\n",
      "kwargs: {}\n",
      "x: 1\n",
      "y: 2\n",
      "z: 3\n",
      "args: (4, 5, 6)\n",
      "a: 7\n",
      "b: 8\n",
      "kwargs: {}\n",
      "x: 1\n",
      "y: 2\n",
      "z: 3\n",
      "args: (4, 5, 6)\n",
      "a: 7\n",
      "b: 8\n",
      "kwargs: {}\n",
      "x: 1\n",
      "y: 2\n",
      "z: 3\n",
      "args: (4, 5, 6)\n",
      "a: 7\n",
      "b: 8\n",
      "kwargs: {}\n"
     ]
    }
   ],
   "source": [
    "# No puedes tener ambos *args y * en la misma firma.\n",
    "# def f(x, y, /, z, *args, a, b, **kwargs): # error \n",
    "\n",
    "# Forma correcta:\n",
    "def f(x, y, /, z, *args, a, b, **kwargs):\n",
    "    print(\"x:\", x)\n",
    "    print(\"y:\", y)\n",
    "    print(\"z:\", z)\n",
    "    print(\"args:\", args)\n",
    "    print(\"a:\", a)\n",
    "    print(\"b:\", b)\n",
    "    print(\"kwargs:\", kwargs)\n",
    "\n",
    "f(1, 2, 3, 4, 5, 6, a=7, b=8)\n",
    "f(1,2,3,4,5,6,a=7,b=8)\n",
    "\n",
    "f(1, 2, 3, 4, 5, 6, a=7, b=8)\n",
    "\n",
    "f(1,2,3,4,5,6,a=7,b=8)\n"
   ]
  },
  {
   "cell_type": "markdown",
   "metadata": {},
   "source": [
    "# Documentación\n",
    "\n",
    "También podemos encontrarnos con una cadena de texto como primera línea del cuerpo de la función. Estas cadenas se conocen con el nombre de **docstring (cadena de documentación) y sirven, como su nombre indica, a modo de documentación de la función.**"
   ]
  },
  {
   "cell_type": "code",
   "execution_count": 26,
   "metadata": {},
   "outputs": [
    {
     "name": "stdout",
     "output_type": "stream",
     "text": [
      "Hola\n",
      "Mundo\n"
     ]
    }
   ],
   "source": [
    "def mi_funcion(param1, param2): \n",
    "    \"\"\"Esta funcion imprime los dos valores pasados\n",
    "       como parametros\"\"\"\n",
    "    print (param1)\n",
    "    print (param2)\n",
    "mi_funcion(\"Hola\",\"Mundo\")    "
   ]
  },
  {
   "cell_type": "code",
   "execution_count": 78,
   "metadata": {},
   "outputs": [],
   "source": [
    "mi_funcion?"
   ]
  },
  {
   "cell_type": "code",
   "execution_count": 34,
   "metadata": {},
   "outputs": [
    {
     "name": "stdout",
     "output_type": "stream",
     "text": [
      "Help on function mi_funcion in module __main__:\n",
      "\n",
      "mi_funcion(param1, param2)\n",
      "    Esta funcion imprime los dos valores pasados\n",
      "    como parametros\n",
      "\n"
     ]
    }
   ],
   "source": [
    "help(mi_funcion)"
   ]
  },
  {
   "cell_type": "code",
   "execution_count": 76,
   "metadata": {},
   "outputs": [
    {
     "name": "stdout",
     "output_type": "stream",
     "text": [
      "HOLA\n",
      "Mundo\n"
     ]
    }
   ],
   "source": [
    "def mi_funcion(param1: str, param2: str) -> str: \n",
    "    \"\"\"Esta funcion imprime los dos valores pasados\n",
    "       como parametros\"\"\"\n",
    "    print (param1.upper())\n",
    "    print (param2.capitalize())\n",
    "mi_funcion(\"Hola\",\"Mundo\")   "
   ]
  },
  {
   "cell_type": "code",
   "execution_count": 79,
   "metadata": {},
   "outputs": [],
   "source": [
    "mi_funcion?"
   ]
  },
  {
   "cell_type": "code",
   "execution_count": 77,
   "metadata": {},
   "outputs": [
    {
     "name": "stdout",
     "output_type": "stream",
     "text": [
      "Help on function mi_funcion in module __main__:\n",
      "\n",
      "mi_funcion(param1: str, param2: str) -> str\n",
      "    Esta funcion imprime los dos valores pasados\n",
      "    como parametros\n",
      "\n"
     ]
    }
   ],
   "source": [
    "help(mi_funcion)"
   ]
  },
  {
   "cell_type": "markdown",
   "metadata": {},
   "source": []
  },
  {
   "cell_type": "code",
   "execution_count": null,
   "metadata": {},
   "outputs": [],
   "source": []
  },
  {
   "cell_type": "markdown",
   "metadata": {},
   "source": [
    "# Función lambda"
   ]
  },
  {
   "cell_type": "code",
   "execution_count": null,
   "metadata": {},
   "outputs": [],
   "source": [
    "def f(x):\n",
    "    return x*5"
   ]
  },
  {
   "cell_type": "code",
   "execution_count": null,
   "metadata": {},
   "outputs": [],
   "source": [
    "f = lambda x: x * 5\n",
    "f(2)"
   ]
  },
  {
   "cell_type": "code",
   "execution_count": 29,
   "metadata": {},
   "outputs": [
    {
     "data": {
      "text/plain": [
       "15"
      ]
     },
     "execution_count": 29,
     "metadata": {},
     "output_type": "execute_result"
    }
   ],
   "source": [
    "g = lambda x,y: x + 5 + y\n",
    "g(3,7)"
   ]
  },
  {
   "cell_type": "code",
   "execution_count": null,
   "metadata": {},
   "outputs": [],
   "source": [
    "f(5)+g(3)"
   ]
  },
  {
   "cell_type": "markdown",
   "metadata": {},
   "source": [
    "# Tarea: \n",
    "\n"
   ]
  },
  {
   "cell_type": "markdown",
   "metadata": {},
   "source": [
    "# Diseña una función que calcule la media de cualquier cantidad de parámetros.\n",
    "\n",
    "#  Diseña una función que reciba dos parámetros, uno es una lista de enteros, el otro será un valor que se le pida al usuario y este se buscara en la lista.  Tu programa imprimirá si el elemento se encuentra o no en la lista. "
   ]
  },
  {
   "cell_type": "markdown",
   "metadata": {},
   "source": [
    "# Diseña un programa que calcule el número de combinaciones que podemos formar tomando $m$ elementos de un conjunto con $n$ elementos es: \n",
    "\n",
    "$$ C^m_n = \n",
    "\\Bigg(\n",
    "\\begin{array}{c} \n",
    "n \\\\\n",
    "m\n",
    "\\end{array}\n",
    "\\Bigg) = \\frac{n!}{(n-m)!m!} $$\n",
    "\n",
    "\n",
    "- $n$ conjunto con n elementos\n",
    "- $m$ es el numeros de elementos tomados\n",
    "\n",
    "- Si el **orden no importa**, es una **combinación**.\n",
    "- Si el **orden sí importa** es una **permutación**.\n",
    "\n",
    "# Por ejemplo\n",
    "\n",
    "Sean cuatro elementos **{a,b,c,d}**. \n",
    "\n",
    "Los conjuntos, tomados de tres en tres, que se pueden formar con esos cuatro elementos son:\n",
    "\n",
    "\n",
    "{a , b , c} , {a , b , d } , {a , c , d } y {b , c , d }"
   ]
  },
  {
   "cell_type": "code",
   "execution_count": null,
   "metadata": {},
   "outputs": [],
   "source": []
  },
  {
   "cell_type": "code",
   "execution_count": null,
   "metadata": {},
   "outputs": [],
   "source": []
  }
 ],
 "metadata": {
  "hide_input": false,
  "kernelspec": {
   "display_name": "UP2025",
   "language": "python",
   "name": "python3"
  },
  "language_info": {
   "codemirror_mode": {
    "name": "ipython",
    "version": 3
   },
   "file_extension": ".py",
   "mimetype": "text/x-python",
   "name": "python",
   "nbconvert_exporter": "python",
   "pygments_lexer": "ipython3",
   "version": "3.12.4"
  },
  "toc": {
   "base_numbering": 1,
   "nav_menu": {},
   "number_sections": true,
   "sideBar": true,
   "skip_h1_title": false,
   "title_cell": "Table of Contents",
   "title_sidebar": "Contents",
   "toc_cell": false,
   "toc_position": {},
   "toc_section_display": "block",
   "toc_window_display": false
  },
  "varInspector": {
   "cols": {
    "lenName": 16,
    "lenType": 16,
    "lenVar": 40
   },
   "kernels_config": {
    "python": {
     "delete_cmd_postfix": "",
     "delete_cmd_prefix": "del ",
     "library": "var_list.py",
     "varRefreshCmd": "print(var_dic_list())"
    },
    "r": {
     "delete_cmd_postfix": ") ",
     "delete_cmd_prefix": "rm(",
     "library": "var_list.r",
     "varRefreshCmd": "cat(var_dic_list()) "
    }
   },
   "types_to_exclude": [
    "module",
    "function",
    "builtin_function_or_method",
    "instance",
    "_Feature"
   ],
   "window_display": false
  }
 },
 "nbformat": 4,
 "nbformat_minor": 1
}
