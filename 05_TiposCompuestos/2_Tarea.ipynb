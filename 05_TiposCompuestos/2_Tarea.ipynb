{
 "cells": [
  {
   "cell_type": "code",
   "execution_count": null,
   "id": "314b52cc",
   "metadata": {},
   "outputs": [],
   "source": []
  },
  {
   "cell_type": "code",
   "execution_count": null,
   "id": "6b152f1e",
   "metadata": {},
   "outputs": [],
   "source": []
  },
  {
   "cell_type": "code",
   "execution_count": 27,
   "id": "450f27be",
   "metadata": {},
   "outputs": [],
   "source": [
    "# Ejemplo de uso\n",
    "grid = [\n",
    "    [0, 0, 0, 0, 1],\n",
    "    [0, 1, 1, 0, 1],\n",
    "    [0, 0, 0, 0, 0],\n",
    "    [0, 1, 0, 1, 0],\n",
    "    [0, 0, 0, 0, 0]\n",
    "]\n",
    "\n",
    "start = (0, 0)\n",
    "goal = (4, 4)\n",
    "#path = a_star(grid, start, goal)\n",
    "#print(\"Camino encontrado:\", path)"
   ]
  },
  {
   "cell_type": "code",
   "execution_count": 31,
   "id": "f9389da2",
   "metadata": {},
   "outputs": [
    {
     "data": {
      "text/plain": [
       "[(0, 0), (1, 0), (2, 0), (3, 0), (4, 0), (4, 1), (4, 2), (4, 3), (4, 4)]"
      ]
     },
     "execution_count": 31,
     "metadata": {},
     "output_type": "execute_result"
    }
   ],
   "source": [
    "path\n"
   ]
  },
  {
   "cell_type": "code",
   "execution_count": 32,
   "id": "27f51fd2",
   "metadata": {},
   "outputs": [
    {
     "data": {
      "text/plain": [
       "[[0, 0, 0, 0, 1],\n",
       " [0, 1, 1, 0, 1],\n",
       " [0, 0, 0, 0, 0],\n",
       " [0, 1, 0, 1, 0],\n",
       " [0, 0, 0, 0, 0]]"
      ]
     },
     "execution_count": 32,
     "metadata": {},
     "output_type": "execute_result"
    }
   ],
   "source": [
    "grid"
   ]
  },
  {
   "cell_type": "code",
   "execution_count": 25,
   "id": "c88554e3",
   "metadata": {},
   "outputs": [
    {
     "data": {
      "text/plain": [
       "[[2, 0, 0, 0, 1],\n",
       " [2, 1, 1, 0, 1],\n",
       " [2, 0, 0, 0, 0],\n",
       " [2, 1, 0, 1, 0],\n",
       " [2, 2, 2, 2, 2]]"
      ]
     },
     "execution_count": 25,
     "metadata": {},
     "output_type": "execute_result"
    }
   ],
   "source": [
    "gridpath = grid.copy()\n",
    "for x,y in path:\n",
    "    gridpath[x][y] = 2\n",
    "\n",
    "gridpath"
   ]
  },
  {
   "cell_type": "code",
   "execution_count": null,
   "id": "f360b440",
   "metadata": {},
   "outputs": [
    {
     "data": {
      "text/plain": [
       "(5, 5)"
      ]
     },
     "execution_count": 26,
     "metadata": {},
     "output_type": "execute_result"
    }
   ],
   "source": [
    "\n",
    "grid = [\n",
    "    [0, 0, 0, 0, 1],\n",
    "    [0, 1, 1, 0, 1],\n",
    "    [1, 0, 0, 0, 0],\n",
    "    [0, 1, 0, 1, 0],\n",
    "    [0, 0, 0, 0, 0]\n",
    "]\n",
    "\n"
   ]
  },
  {
   "cell_type": "code",
   "execution_count": 29,
   "id": "cd2b5a63",
   "metadata": {},
   "outputs": [
    {
     "data": {
      "text/plain": [
       "[[0, 0, 0, 0, 1],\n",
       " [0, 1, 1, 0, 1],\n",
       " [1, 0, 0, 0, 0],\n",
       " [0, 1, 0, 1, 0],\n",
       " [0, 0, 0, 0, 0]]"
      ]
     },
     "execution_count": 29,
     "metadata": {},
     "output_type": "execute_result"
    }
   ],
   "source": [
    "grid"
   ]
  },
  {
   "cell_type": "code",
   "execution_count": null,
   "id": "18c25908",
   "metadata": {},
   "outputs": [],
   "source": []
  },
  {
   "cell_type": "code",
   "execution_count": 31,
   "id": "2094217b",
   "metadata": {},
   "outputs": [
    {
     "data": {
      "text/plain": [
       "[[2, 2, 2, 2, 1],\n",
       " [2, 1, 1, 2, 1],\n",
       " [1, 0, 2, 2, 2],\n",
       " [0, 1, 2, 1, 0],\n",
       " [0, 0, 2, 2, 2]]"
      ]
     },
     "execution_count": 31,
     "metadata": {},
     "output_type": "execute_result"
    }
   ],
   "source": [
    "#gridpath = grid.copy()\n",
    "for x,y in path:\n",
    "    gridpath[x][y] = 2\n",
    "\n",
    "gridpath"
   ]
  },
  {
   "cell_type": "code",
   "execution_count": null,
   "id": "c11559cc",
   "metadata": {},
   "outputs": [],
   "source": []
  }
 ],
 "metadata": {
  "kernelspec": {
   "display_name": "UP2025",
   "language": "python",
   "name": "python3"
  },
  "language_info": {
   "codemirror_mode": {
    "name": "ipython",
    "version": 3
   },
   "file_extension": ".py",
   "mimetype": "text/x-python",
   "name": "python",
   "nbconvert_exporter": "python",
   "pygments_lexer": "ipython3",
   "version": "3.12.4"
  }
 },
 "nbformat": 4,
 "nbformat_minor": 5
}
