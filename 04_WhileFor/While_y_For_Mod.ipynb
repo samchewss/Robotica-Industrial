{
 "cells": [
  {
   "cell_type": "markdown",
   "metadata": {},
   "source": [
    "# El bucle while o bucle mientras \n",
    "\n",
    "Un bucle while **permite repetir un bloque de código mientras una condición se mantenga verdadera.** (es decir, mientras la condición tenga el valor True) .\n",
    "\n",
    "**while** condicion**:**\n",
    "\n",
    "    cuerpo del bucle\n",
    "    "
   ]
  },
  {
   "cell_type": "markdown",
   "metadata": {},
   "source": [
    "### El siguiente programa escribe los números del 1 al 10:"
   ]
  },
  {
   "cell_type": "code",
   "execution_count": null,
   "metadata": {},
   "outputs": [],
   "source": []
  },
  {
   "cell_type": "code",
   "execution_count": null,
   "metadata": {},
   "outputs": [],
   "source": []
  },
  {
   "cell_type": "code",
   "execution_count": null,
   "metadata": {},
   "outputs": [],
   "source": []
  },
  {
   "cell_type": "markdown",
   "metadata": {},
   "source": [
    "## Genere la siguiente progresión geométrica\n",
    "\n",
    "$ 5,15,45,135,405,\\ldots,$ es una progresión geométrica con razón igual a 3, porque cada elemento es el triple del anterior. \n"
   ]
  },
  {
   "cell_type": "code",
   "execution_count": null,
   "metadata": {},
   "outputs": [],
   "source": []
  },
  {
   "cell_type": "code",
   "execution_count": null,
   "metadata": {},
   "outputs": [],
   "source": []
  },
  {
   "cell_type": "markdown",
   "metadata": {},
   "source": [
    "# Genere la siguiente progresiones aritmética\n",
    "\n",
    "- 3, 5, 7, 9,… \n",
    "\n",
    "- 5, 2, −1, −4,… \n"
   ]
  },
  {
   "cell_type": "code",
   "execution_count": null,
   "metadata": {},
   "outputs": [],
   "source": []
  },
  {
   "cell_type": "code",
   "execution_count": null,
   "metadata": {},
   "outputs": [],
   "source": []
  },
  {
   "cell_type": "code",
   "execution_count": null,
   "metadata": {},
   "outputs": [],
   "source": []
  },
  {
   "cell_type": "markdown",
   "metadata": {},
   "source": [
    "# Bucles FOR\n",
    "\n",
    "La sentencia for en Python difiere un poco de lo que uno puede estar acostumbrado en lenguajes como C o Java. \n",
    "\n",
    "En lugar de siempre iterar sobre una progresión aritmética de números o darle al usuario la posibilidad de definir tanto el paso de la iteración como la condición de fin (como en C), la sentencia **for** de Python **itera sobre los ítems de cualquier secuencia** (una **lista** o una **cadena de texto**), en el orden que aparecen en la secuencia.\n",
    "\n",
    "\n",
    "**for** item **in** secuencia:\n",
    "    \n",
    "     cuerpo del bucle"
   ]
  },
  {
   "cell_type": "code",
   "execution_count": null,
   "metadata": {},
   "outputs": [],
   "source": []
  },
  {
   "cell_type": "code",
   "execution_count": null,
   "metadata": {},
   "outputs": [],
   "source": []
  },
  {
   "cell_type": "code",
   "execution_count": null,
   "metadata": {},
   "outputs": [],
   "source": [
    "    in [5,15,45,135,405]:\n",
    "    "
   ]
  },
  {
   "cell_type": "code",
   "execution_count": null,
   "metadata": {},
   "outputs": [],
   "source": []
  },
  {
   "cell_type": "markdown",
   "metadata": {},
   "source": [
    "# El tipo range\n",
    "\n",
    "El tipo range() con un único argumento se escribe range(n) y crea una lista inmutable de n números enteros consecutivos que empieza en 0 y acaba en n - 1.\n",
    "\n",
    "Para ver los valores del range(), es necesario convertirlo a lista mediante la función list().\n",
    "\n",
    "**El tipo range es una lista inmutable de números enteros en sucesión aritmética.**\n",
    "\n",
    "Inmutable significa que, a diferencia de las listas, **los range no se pueden modificar.**\n",
    "**Una sucesión artimética es una sucesión en la que la diferencia entre dos términos consecutivos es siempre la misma.**\n"
   ]
  },
  {
   "cell_type": "code",
   "execution_count": null,
   "metadata": {},
   "outputs": [],
   "source": [
    "range?"
   ]
  },
  {
   "cell_type": "code",
   "execution_count": null,
   "metadata": {},
   "outputs": [],
   "source": [
    "\n",
    "    print (i)\n",
    "print(\"Programa terminado\") "
   ]
  },
  {
   "cell_type": "code",
   "execution_count": null,
   "metadata": {
    "scrolled": true
   },
   "outputs": [],
   "source": [
    "\n",
    "    print (i)\n",
    "print(\"Programa terminado\")    "
   ]
  },
  {
   "cell_type": "code",
   "execution_count": null,
   "metadata": {},
   "outputs": [],
   "source": [
    "lis= \n",
    "print(lis)"
   ]
  },
  {
   "cell_type": "code",
   "execution_count": null,
   "metadata": {},
   "outputs": [],
   "source": []
  },
  {
   "cell_type": "code",
   "execution_count": null,
   "metadata": {},
   "outputs": [],
   "source": []
  },
  {
   "cell_type": "code",
   "execution_count": null,
   "metadata": {},
   "outputs": [],
   "source": []
  },
  {
   "cell_type": "markdown",
   "metadata": {},
   "source": [
    "# Sentencias utilitarias\n",
    "\n",
    "## Usando la sentencia ‘break’"
   ]
  },
  {
   "cell_type": "code",
   "execution_count": null,
   "metadata": {},
   "outputs": [],
   "source": [
    "# Usando while\n",
    "\n"
   ]
  },
  {
   "cell_type": "code",
   "execution_count": null,
   "metadata": {},
   "outputs": [],
   "source": [
    "# Usando for\n"
   ]
  },
  {
   "cell_type": "markdown",
   "metadata": {},
   "source": [
    "## Usando la sentencia ‘continue’"
   ]
  },
  {
   "cell_type": "code",
   "execution_count": null,
   "metadata": {},
   "outputs": [],
   "source": [
    "i = 1\n",
    "while i <= 10:\n",
    "    print(i)\n",
    "    i += 1\n",
    "    \n",
    "\n",
    "        \n",
    "    print (\"Segundo i:\",i)\n",
    "    print (\"Segundo i:\",i)\n",
    "    print (\"Segundo i:\",i)\n",
    "    print (\"Segundo i:\",i)\n",
    "\n",
    "print(\"Programa terminado\")"
   ]
  },
  {
   "cell_type": "code",
   "execution_count": null,
   "metadata": {},
   "outputs": [],
   "source": [
    "#Tener precaución usando continue con while\n",
    "\n",
    "i = 1\n",
    "while i <= 10:\n",
    "    print(i)\n",
    "#    if i == 5:\n",
    "#        continue\n",
    "    print (\"Segundo i:\",i)\n",
    "    i += 1\n",
    "print(\"Programa terminado\")"
   ]
  },
  {
   "cell_type": "code",
   "execution_count": null,
   "metadata": {},
   "outputs": [],
   "source": []
  },
  {
   "cell_type": "code",
   "execution_count": null,
   "metadata": {},
   "outputs": [],
   "source": []
  },
  {
   "cell_type": "code",
   "execution_count": null,
   "metadata": {},
   "outputs": [],
   "source": [
    "for i in range(10):\n",
    "    print (i)\n",
    "\n",
    "    print (\"Segundo i:\",i)\n",
    "    print (\"Segundo i:\",i)"
   ]
  },
  {
   "cell_type": "markdown",
   "metadata": {},
   "source": [
    "# Generar números pseudoaleatorios"
   ]
  },
  {
   "cell_type": "code",
   "execution_count": null,
   "metadata": {},
   "outputs": [],
   "source": [
    "\n"
   ]
  },
  {
   "cell_type": "code",
   "execution_count": null,
   "metadata": {},
   "outputs": [],
   "source": []
  },
  {
   "cell_type": "code",
   "execution_count": null,
   "metadata": {},
   "outputs": [],
   "source": [
    "ran.randint?"
   ]
  },
  {
   "cell_type": "code",
   "execution_count": null,
   "metadata": {},
   "outputs": [],
   "source": []
  },
  {
   "cell_type": "code",
   "execution_count": null,
   "metadata": {},
   "outputs": [],
   "source": []
  },
  {
   "cell_type": "code",
   "execution_count": null,
   "metadata": {},
   "outputs": [],
   "source": []
  },
  {
   "cell_type": "code",
   "execution_count": null,
   "metadata": {},
   "outputs": [],
   "source": []
  },
  {
   "cell_type": "markdown",
   "metadata": {},
   "source": [
    "# Juego simple. \n",
    "\n",
    "Adivina el numero que la maquina esta pensando!!!\n",
    "\n",
    "- En este pequeño juego el usuario trata de adivinar el número generado por la computadora. \n",
    "- Tiene solo tres oportunidades para adivinar el número. \n",
    "\n",
    "\n",
    "<!--\n",
    "    #print (\"Intento %d: Adivina el numero!!!\" %(i))\n",
    "    #print (\"Intento {}: Adivina el numero!!!\".format(i))\n",
    "    #print (\"Intento {0}: Adivina el numero!!!\".format(i))\n",
    "    #print (\"Intento\",i,\": Adivina el numero!!!\")\n",
    "    #print (\"Intento\"+str(i)+\": Adivina el numero!!!\")\n",
    "-->\n",
    "\n"
   ]
  },
  {
   "cell_type": "code",
   "execution_count": null,
   "metadata": {},
   "outputs": [],
   "source": []
  },
  {
   "cell_type": "code",
   "execution_count": null,
   "metadata": {},
   "outputs": [],
   "source": []
  },
  {
   "cell_type": "code",
   "execution_count": null,
   "metadata": {},
   "outputs": [],
   "source": []
  },
  {
   "cell_type": "code",
   "execution_count": null,
   "metadata": {},
   "outputs": [],
   "source": []
  },
  {
   "cell_type": "markdown",
   "metadata": {},
   "source": [
    "## Tarea: Modificación del juego anterior\n",
    "\n",
    "- En este pequeño juego el usuario trata de adivinar el número generado por la computadora. \n",
    "- Tiene solo tres oportunidades para adivinarlo. \n",
    "- **Si el número no fue adivinado, el programa se reiniciara automáticamente hasta que se adivine el número. **"
   ]
  },
  {
   "cell_type": "code",
   "execution_count": null,
   "metadata": {
    "scrolled": true
   },
   "outputs": [],
   "source": []
  },
  {
   "cell_type": "markdown",
   "metadata": {},
   "source": [
    "## "
   ]
  },
  {
   "cell_type": "markdown",
   "metadata": {},
   "source": [
    "# Tarea: Sumatoria \n",
    "\n",
    "Haz un programa que pida el valor de dos enteros $n$ y $m$ y que muestre por pantalla el valor de\n",
    "\n",
    "$$ \\sum^{m}_{i=n}i $$"
   ]
  },
  {
   "cell_type": "code",
   "execution_count": null,
   "metadata": {
    "run_control": {
     "marked": false
    }
   },
   "outputs": [],
   "source": []
  },
  {
   "cell_type": "code",
   "execution_count": null,
   "metadata": {},
   "outputs": [],
   "source": []
  },
  {
   "cell_type": "markdown",
   "metadata": {},
   "source": [
    "# Tarea: Programa que calcule el factorial\n",
    "\n",
    "Queremos hacer un programa que calcule el factorial de un número entero positivo. El factorial de $n$ se denota con $n!$\n",
    "\n",
    "$$n! = 1*2*3 * \\ldots (n-1)*n $$\n",
    "\n",
    "y que $0! = 1$, haz un programa que pida el valor de n y muestre por pantalla el resultado de calcular $n!$\n",
    "\n",
    "$$ n! := f(n)=\\prod^n_{k=1} k = 1*2*3 * \\ldots (n-1)*n$$\n",
    "\n",
    "También es posible definirlo mediante la relación de recurrencia\n",
    "\n",
    "$$ n! =\\delta(n) =\\begin{equation*}\n",
    "  \\left\\lbrace\n",
    "  \\begin{array}{lr}\n",
    "     \\delta(n) = 1 & \\text{ si, } n = 0 \\\\\n",
    "     \\delta(n) = (n-1)!\\times n & \\text{ si, } n > 0 \\\\\n",
    "  \\end{array}\n",
    "  \\right.\n",
    "\\end{equation*}$$"
   ]
  },
  {
   "cell_type": "code",
   "execution_count": null,
   "metadata": {},
   "outputs": [],
   "source": []
  },
  {
   "cell_type": "code",
   "execution_count": null,
   "metadata": {},
   "outputs": [],
   "source": []
  }
 ],
 "metadata": {
  "hide_input": false,
  "kernelspec": {
   "display_name": "Python 3",
   "language": "python",
   "name": "python3"
  },
  "language_info": {
   "codemirror_mode": {
    "name": "ipython",
    "version": 3
   },
   "file_extension": ".py",
   "mimetype": "text/x-python",
   "name": "python",
   "nbconvert_exporter": "python",
   "pygments_lexer": "ipython3",
   "version": "3.6.4"
  },
  "toc": {
   "base_numbering": 1,
   "nav_menu": {},
   "number_sections": true,
   "sideBar": true,
   "skip_h1_title": false,
   "title_cell": "Table of Contents",
   "title_sidebar": "Contents",
   "toc_cell": false,
   "toc_position": {
    "height": "calc(100% - 180px)",
    "left": "10px",
    "top": "150px",
    "width": "259px"
   },
   "toc_section_display": "block",
   "toc_window_display": false
  },
  "varInspector": {
   "cols": {
    "lenName": 16,
    "lenType": 16,
    "lenVar": 40
   },
   "kernels_config": {
    "python": {
     "delete_cmd_postfix": "",
     "delete_cmd_prefix": "del ",
     "library": "var_list.py",
     "varRefreshCmd": "print(var_dic_list())"
    },
    "r": {
     "delete_cmd_postfix": ") ",
     "delete_cmd_prefix": "rm(",
     "library": "var_list.r",
     "varRefreshCmd": "cat(var_dic_list()) "
    }
   },
   "types_to_exclude": [
    "module",
    "function",
    "builtin_function_or_method",
    "instance",
    "_Feature"
   ],
   "window_display": false
  }
 },
 "nbformat": 4,
 "nbformat_minor": 1
}
