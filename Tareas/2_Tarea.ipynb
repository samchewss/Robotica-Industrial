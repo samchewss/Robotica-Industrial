{
 "cells": [
  {
   "cell_type": "code",
   "execution_count": null,
   "id": "e8f538d1",
   "metadata": {},
   "outputs": [
    {
     "ename": "NameError",
     "evalue": "name 'a_star' is not defined",
     "output_type": "error",
     "traceback": [
      "\u001b[31m---------------------------------------------------------------------------\u001b[39m",
      "\u001b[31mNameError\u001b[39m                                 Traceback (most recent call last)",
      "\u001b[36mCell\u001b[39m\u001b[36m \u001b[39m\u001b[32mIn[11]\u001b[39m\u001b[32m, line 12\u001b[39m\n\u001b[32m     10\u001b[39m start = (\u001b[32m0\u001b[39m, \u001b[32m0\u001b[39m)\n\u001b[32m     11\u001b[39m goal = (\u001b[32m4\u001b[39m, \u001b[32m4\u001b[39m)\n\u001b[32m---> \u001b[39m\u001b[32m12\u001b[39m path = \u001b[43ma_star\u001b[49m(grid, start, goal)\n\u001b[32m     13\u001b[39m \u001b[38;5;28mprint\u001b[39m(\u001b[33m\"\u001b[39m\u001b[33mCamino encontrado:\u001b[39m\u001b[33m\"\u001b[39m, path)\n",
      "\u001b[31mNameError\u001b[39m: name 'a_star' is not defined"
     ]
    }
   ],
   "source": [
    "# Ejemplo de uso\n",
    "grid = [\n",
    "    [0, 0, 0, 0, 1],\n",
    "    [0, 1, 1, 0, 1],\n",
    "    [0, 0, 0, 0, 0],\n",
    "    [0, 1, 0, 1, 0],\n",
    "    [0, 0, 0, 0, 0]\n",
    "]\n",
    "\n",
    "start = (0, 0)\n",
    "goal = (4, 4)\n",
    "#path = a_star(grid, start, goal)\n",
    "#print(\"Camino encontrado:\", path)"
   ]
  },
  {
   "cell_type": "code",
   "execution_count": 8,
   "id": "98adf5bd",
   "metadata": {},
   "outputs": [
    {
     "data": {
      "text/plain": [
       "[[0, 0, 0, 0, 1],\n",
       " [0, 1, 1, 0, 1],\n",
       " [0, 0, 0, 0, 0],\n",
       " [0, 1, 0, 1, 0],\n",
       " [0, 0, 0, 0, 0]]"
      ]
     },
     "execution_count": 8,
     "metadata": {},
     "output_type": "execute_result"
    }
   ],
   "source": [
    "grid"
   ]
  },
  {
   "cell_type": "code",
   "execution_count": 10,
   "id": "768c9ad8",
   "metadata": {},
   "outputs": [
    {
     "ename": "NameError",
     "evalue": "name 'path' is not defined",
     "output_type": "error",
     "traceback": [
      "\u001b[31m---------------------------------------------------------------------------\u001b[39m",
      "\u001b[31mNameError\u001b[39m                                 Traceback (most recent call last)",
      "\u001b[36mCell\u001b[39m\u001b[36m \u001b[39m\u001b[32mIn[10]\u001b[39m\u001b[32m, line 1\u001b[39m\n\u001b[32m----> \u001b[39m\u001b[32m1\u001b[39m \u001b[43mpath\u001b[49m\n",
      "\u001b[31mNameError\u001b[39m: name 'path' is not defined"
     ]
    }
   ],
   "source": [
    "path"
   ]
  },
  {
   "cell_type": "code",
   "execution_count": null,
   "id": "8280a435",
   "metadata": {},
   "outputs": [
    {
     "ename": "NameError",
     "evalue": "name 'path' is not defined",
     "output_type": "error",
     "traceback": [
      "\u001b[31m---------------------------------------------------------------------------\u001b[39m",
      "\u001b[31mNameError\u001b[39m                                 Traceback (most recent call last)",
      "\u001b[36mCell\u001b[39m\u001b[36m \u001b[39m\u001b[32mIn[9]\u001b[39m\u001b[32m, line 2\u001b[39m\n\u001b[32m      1\u001b[39m gridpath = grid.copy()\n\u001b[32m----> \u001b[39m\u001b[32m2\u001b[39m \u001b[38;5;28;01mfor\u001b[39;00m x,y \u001b[38;5;129;01min\u001b[39;00m \u001b[43mpath\u001b[49m:\n\u001b[32m      3\u001b[39m     gridpath[x][y] = \u001b[32m2\u001b[39m\n\u001b[32m      5\u001b[39m gridpath\n",
      "\u001b[31mNameError\u001b[39m: name 'path' is not defined"
     ]
    }
   ],
   "source": [
    "gridpath = grid.copy()\n",
    "for x,y in path:\n",
    "    gridpath[x][y] = 2\n",
    "\n",
    "gridpath"
   ]
  },
  {
   "cell_type": "code",
   "execution_count": null,
   "id": "1e09a402",
   "metadata": {},
   "outputs": [],
   "source": [
    "\n",
    "grid = [\n",
    "    [0, 0, 0, 0, 1],\n",
    "    [0, 1, 1, 0, 1],\n",
    "    [1, 0, 0, 0, 0],\n",
    "    [0, 1, 0, 1, 0],\n",
    "    [0, 0, 0, 0, 0]\n",
    "]\n",
    "\n"
   ]
  },
  {
   "cell_type": "code",
   "execution_count": null,
   "id": "e8e19d57",
   "metadata": {},
   "outputs": [],
   "source": [
    "grid"
   ]
  },
  {
   "cell_type": "code",
   "execution_count": null,
   "id": "6547d864",
   "metadata": {},
   "outputs": [],
   "source": []
  },
  {
   "cell_type": "code",
   "execution_count": null,
   "id": "0a1a7119",
   "metadata": {},
   "outputs": [],
   "source": [
    "#gridpath = grid.copy()\n",
    "for x,y in path:\n",
    "    gridpath[x][y] = 2\n",
    "\n",
    "gridpath"
   ]
  },
  {
   "cell_type": "markdown",
   "id": "ade2bd0d",
   "metadata": {},
   "source": [
    "### TAREA"
   ]
  },
  {
   "cell_type": "code",
   "execution_count": 12,
   "id": "ef1cf742",
   "metadata": {},
   "outputs": [
    {
     "name": "stdout",
     "output_type": "stream",
     "text": [
      "Camino más corto: [(0, 0), (1, 0), (2, 0), (3, 0), (4, 0), (4, 1), (4, 2), (4, 3), (4, 4)]\n"
     ]
    }
   ],
   "source": [
    "from collections import deque\n",
    "\n",
    "def shortest_path(grid, start, goal):\n",
    "    rows, cols = len(grid), len(grid[0])\n",
    "    queue = deque([(start, [start])])\n",
    "    visited = set([start])\n",
    "    directions = [(-1,0), (1,0), (0,-1), (0,1)]  # arriba, abajo, izquierda, derecha\n",
    "\n",
    "    while queue:\n",
    "        (x, y), path = queue.popleft()\n",
    "        if (x, y) == goal:\n",
    "            return path\n",
    "        for dx, dy in directions:\n",
    "            nx, ny = x + dx, y + dy\n",
    "            if (0 <= nx < rows and 0 <= ny < cols and\n",
    "                grid[nx][ny] == 0 and (nx, ny) not in visited):\n",
    "                queue.append(((nx, ny), path + [(nx, ny)]))\n",
    "                visited.add((nx, ny))\n",
    "    return None  # No hay camino\n",
    "\n",
    "# Ejemplo de uso:\n",
    "grid = [\n",
    "    [0, 0, 0, 0, 1],\n",
    "    [0, 1, 1, 0, 1],\n",
    "    [0, 0, 0, 0, 0],\n",
    "    [0, 1, 0, 1, 0],\n",
    "    [0, 0, 0, 0, 0]\n",
    "]\n",
    "start = (0, 0)\n",
    "goal = (4, 4)\n",
    "path = shortest_path(grid, start, goal)\n",
    "print(\"Camino más corto:\", path)"
   ]
  },
  {
   "cell_type": "code",
   "execution_count": 13,
   "id": "4131fd7f",
   "metadata": {},
   "outputs": [
    {
     "name": "stdout",
     "output_type": "stream",
     "text": [
      "[2, 0, 0, 0, 1]\n",
      "[2, 1, 1, 0, 1]\n",
      "[2, 0, 0, 0, 0]\n",
      "[2, 1, 0, 1, 0]\n",
      "[2, 2, 2, 2, 2]\n"
     ]
    }
   ],
   "source": [
    "# Visualizar el camino en la matriz marcando el recorrido con 2\n",
    "if path:\n",
    "    gridpath = [row.copy() for row in grid]\n",
    "    for x, y in path:\n",
    "        gridpath[x][y] = 2\n",
    "    for fila in gridpath:\n",
    "        print(fila)\n",
    "else:\n",
    "    print(\"No hay camino disponible.\")"
   ]
  }
 ],
 "metadata": {
  "kernelspec": {
   "display_name": "base",
   "language": "python",
   "name": "python3"
  },
  "language_info": {
   "codemirror_mode": {
    "name": "ipython",
    "version": 3
   },
   "file_extension": ".py",
   "mimetype": "text/x-python",
   "name": "python",
   "nbconvert_exporter": "python",
   "pygments_lexer": "ipython3",
   "version": "3.13.5"
  }
 },
 "nbformat": 4,
 "nbformat_minor": 5
}
