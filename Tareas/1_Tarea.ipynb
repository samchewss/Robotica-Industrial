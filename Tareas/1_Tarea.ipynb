{
 "cells": [
  {
   "cell_type": "markdown",
   "id": "71cd2829",
   "metadata": {},
   "source": [
    "# Ejercicios de Introducción a Python\n",
    "\n",
    "## Tipos de Datos Básicos y Estructuras de Control\n",
    "\n",
    "### Ejercicio 1: Calculadora de Propinas\n",
    "\n",
    "Escribe un programa que solicite al usuario el monto de una cuenta (float) y el porcentaje de propina que desea dar (int). El programa debe calcular y mostrar la propina y el total a pagar.\n",
    "\n",
    "**Ejemplo de salida:**\n",
    "\n",
    "```\n",
    "Ingresa el monto de la cuenta: 150.75\n",
    "Ingresa el porcentaje de propina: 15\n",
    "Propina: $22.61\n",
    "Total a pagar: $173.36\n",
    "```"
   ]
  },
  {
   "cell_type": "code",
   "execution_count": 23,
   "id": "894207b0",
   "metadata": {},
   "outputs": [
    {
     "name": "stdout",
     "output_type": "stream",
     "text": [
      "Propina: $22.61\n",
      "Total a pagar es: $173.36\n"
     ]
    }
   ],
   "source": [
    "mc = float(input(\"Escribe el monto de la cuenta: \"))\n",
    "p = int(input(\"Escribe el porcentaje de propina: \"))\n",
    "propina = (mc * p) / 100\n",
    "total = mc + propina\n",
    "print(f\"Propina: ${propina:.2f}\")\n",
    "print(f\"Total a pagar es: ${total:.2f}\")"
   ]
  },
  {
   "cell_type": "markdown",
   "id": "dbd19c28",
   "metadata": {},
   "source": [
    "### Ejercicio 2: Contador de Vocales\n",
    "\n",
    "Crea un programa que pida una palabra al usuario (str) y use un ciclo `for` para contar cuántas vocales (a, e, i, o, u) contiene la palabra. Considera tanto mayúsculas como minúsculas.\n",
    "\n",
    "**Ejemplo de salida:**\n",
    "\n",
    "```\n",
    "Ingresa una palabra: Python\n",
    "La palabra \"Python\" tiene 1 vocal(es)\n",
    "```"
   ]
  },
  {
   "cell_type": "code",
   "execution_count": 2,
   "id": "a15abdb1",
   "metadata": {},
   "outputs": [
    {
     "name": "stdout",
     "output_type": "stream",
     "text": [
      "La palabra 'Samantha' tiene 3 vocal(es).\n"
     ]
    }
   ],
   "source": [
    "palabra = input(\"Escribe una palabra: \")\n",
    "vocales = \"aeiouAEIOU\"\n",
    "contador = 0\n",
    "for letra in palabra:\n",
    "    if letra in vocales:\n",
    "        contador += 1\n",
    "print(f\"La palabra '{palabra}' tiene {contador} vocal(es).\")"
   ]
  },
  {
   "cell_type": "markdown",
   "id": "da63b69c",
   "metadata": {},
   "source": [
    "### Ejercicio 3: Tabla de Multiplicar\n",
    "\n",
    "Solicita al usuario un número entero (int) y usa un ciclo `for` para mostrar su tabla de multiplicar del 1 al 10.\n",
    "\n",
    "**Ejemplo de salida:**\n",
    "\n",
    "```\n",
    "Ingresa un número: 7\n",
    "7 x 1 = 7\n",
    "7 x 2 = 14\n",
    "...\n",
    "7 x 10 = 70\n",
    "```"
   ]
  },
  {
   "cell_type": "code",
   "execution_count": 5,
   "id": "5802f52e",
   "metadata": {},
   "outputs": [
    {
     "name": "stdout",
     "output_type": "stream",
     "text": [
      "7 x 1 = 7\n",
      "7 x 2 = 14\n",
      "7 x 3 = 21\n",
      "7 x 4 = 28\n",
      "7 x 5 = 35\n",
      "7 x 6 = 42\n",
      "7 x 7 = 49\n",
      "7 x 8 = 56\n",
      "7 x 9 = 63\n",
      "7 x 10 = 70\n",
      "¡Tabla de multiplicar completa!\n"
     ]
    }
   ],
   "source": [
    "num = int(input(\"Ingresa un número: \"))\n",
    "for i in range(1, 11):\n",
    "    print(f\"{num} x {i} = {num * i}\")\n",
    "print(\"¡Tabla de multiplicar completa!\")  # Mensaje al finalizar la tabla\n",
    "\n"
   ]
  },
  {
   "cell_type": "markdown",
   "id": "4dd8344f",
   "metadata": {},
   "source": [
    "### Ejercicio 4: Validador de Contraseña Simple\n",
    "\n",
    "Escribe un programa que pida una contraseña al usuario y use un ciclo `while` para seguir pidiendo la contraseña hasta que tenga al menos 8 caracteres. Al final, muestra la longitud de la contraseña aceptada.\n",
    "\n",
    "**Ejemplo de salida:**\n",
    "\n",
    "```\n",
    "Ingresa tu contraseña: 123\n",
    "Muy corta. Ingresa tu contraseña: 12345678\n",
    "Contraseña aceptada. Longitud: 8 caracteres"
   ]
  },
  {
   "cell_type": "code",
   "execution_count": 7,
   "id": "bc5a8525",
   "metadata": {},
   "outputs": [
    {
     "name": "stdout",
     "output_type": "stream",
     "text": [
      "Muy corta.\n",
      "Muy corta.\n",
      "Muy corta.\n",
      "Contraseña aceptada. Longitud: 8 caracteres\n",
      "Contraseña aceptada. Longitud: 8 caracteres\n"
     ]
    }
   ],
   "source": [
    "contraseña = input(\"Ingresa tu contraseña: \")\n",
    "while len(contraseña) < 8:\n",
    "    print(\"Muy corta.\")\n",
    "    contraseña = input(\"Ingresa tu contraseña: \")\n",
    "print(f\"Contraseña aceptada. Longitud: {len(contraseña)} caracteres\")"
   ]
  },
  {
   "cell_type": "markdown",
   "id": "208f489e",
   "metadata": {},
   "source": [
    "### Ejercicio 5: Suma de Números Pares\n",
    "\n",
    "Pide al usuario un número entero (int) y usa un ciclo `for` para calcular la suma de todos los números pares desde 2 hasta ese número (inclusive).\n",
    "\n",
    "**Ejemplo de salida:**\n",
    "\n",
    "```\n",
    "Ingresa un número: 10\n",
    "La suma de números pares desde 2 hasta 10 es: 30\n",
    "(2 + 4 + 6 + 8 + 10 = 30)\n",
    "```"
   ]
  },
  {
   "cell_type": "code",
   "execution_count": 8,
   "id": "57801189",
   "metadata": {},
   "outputs": [
    {
     "name": "stdout",
     "output_type": "stream",
     "text": [
      "La suma de los números pares desde 2 hasta 10 es: 30\n"
     ]
    }
   ],
   "source": [
    "num = int(input(\"Ingresa un número: \"))\n",
    "sum = 0\n",
    "for i in range(2, num + 1):\n",
    "    if i % 2 == 0:\n",
    "        sum += i\n",
    "print(f\"La suma de los números pares desde 2 hasta {num} es: {sum}\")"
   ]
  },
  {
   "cell_type": "markdown",
   "id": "e8f1443d",
   "metadata": {},
   "source": [
    "### Ejercicio 6: Generador de Patrones de Texto\n",
    "\n",
    "Solicita al usuario un carácter (str) y un número de filas (int). Usa ciclos `for` anidados para crear un patrón triangular donde cada fila tiene un carácter más que la anterior.\n",
    "\n",
    "**Ejemplo de salida:**\n",
    "\n",
    "```\n",
    "Ingresa un carácter: *\n",
    "Ingresa número de filas: 4\n",
    "*\n",
    "**\n",
    "***\n",
    "****\n",
    "```"
   ]
  },
  {
   "cell_type": "code",
   "execution_count": 9,
   "id": "bc533117",
   "metadata": {},
   "outputs": [
    {
     "name": "stdout",
     "output_type": "stream",
     "text": [
      "*\n",
      "**\n",
      "***\n"
     ]
    }
   ],
   "source": [
    "caracter = input(\"Ingresa un carácter: \")\n",
    "filas = int(input(\"Ingresa el número de filas: \"))\n",
    "for i in range(1, filas + 1):\n",
    "    print(caracter * i)"
   ]
  },
  {
   "cell_type": "markdown",
   "id": "ac18d6e0",
   "metadata": {},
   "source": [
    "### Ejercicio 7: Calculadora de Promedio con Validación\n",
    "\n",
    "Usa un ciclo `while` para pedir al usuario que ingrese números decimales (float) uno por uno. El programa debe terminar cuando el usuario ingrese -1. Al final, calcula y muestra el promedio de todos los números ingresados (sin contar el -1).\n",
    "\n",
    "**Ejemplo de salida:**\n",
    "\n",
    "```\n",
    "Ingresa un número (-1 para terminar): 8.5\n",
    "Ingresa un número (-1 para terminar): 9.2\n",
    "Ingresa un número (-1 para terminar): 7.8\n",
    "Ingresa un número (-1 para terminar): -1\n",
    "Promedio: 8.50\n",
    "```"
   ]
  },
  {
   "cell_type": "code",
   "execution_count": 13,
   "id": "126ae131",
   "metadata": {},
   "outputs": [
    {
     "name": "stdout",
     "output_type": "stream",
     "text": [
      "La suma total es: 8.5\n"
     ]
    }
   ],
   "source": [
    "num = float(input(\"Ingresa un número (-1 para terminar): \"))\n",
    "suma = 0\n",
    "cont = 0\n",
    "while num != -1:\n",
    "    cont += 1\n",
    "    suma += num\n",
    "    promedio = suma / cont\n",
    "    num = float(input(\"Ingresa otro número (-1 para terminar): \"))\n",
    "print(f\"La suma total es: {promedio}\")"
   ]
  },
  {
   "cell_type": "markdown",
   "id": "46951a8a",
   "metadata": {},
   "source": [
    "### Ejercicio 8: Inversor de Palabras\n",
    "\n",
    "Pide al usuario una frase (str) y usa un ciclo `for` para mostrar cada palabra de la frase al revés. Las palabras se separan por espacios.\n",
    "\n",
    "**Ejemplo de salida:**\n",
    "\n",
    "```\n",
    "Ingresa una frase: Hola mundo Python\n",
    "aloH\n",
    "odnum\n",
    "nohtyP\n",
    "```"
   ]
  },
  {
   "cell_type": "code",
   "execution_count": 14,
   "id": "81904f77",
   "metadata": {},
   "outputs": [
    {
     "name": "stdout",
     "output_type": "stream",
     "text": [
      "aloH\n",
      "odnum\n",
      "nohtyP\n"
     ]
    }
   ],
   "source": [
    "frase = input(\"Ingresa una frase: \")\n",
    "palabras = frase.split()\n",
    "for palabra in palabras:\n",
    "    print(palabra[::-1])"
   ]
  },
  {
   "cell_type": "markdown",
   "id": "0d2006b9",
   "metadata": {},
   "source": [
    "### Ejercicio 9: Juego de Adivinanza Simple\n",
    "\n",
    "Crea un juego donde el programa \"piensa\" en un número del 1 al 20 (puedes usar el número 15 fijo). Usa un ciclo `while` para que el usuario siga adivinando hasta que acierte. Cuenta y muestra el número de intentos.\n",
    "\n",
    "**Ejemplo de salida:**\n",
    "\n",
    "```\n",
    "Adivina el número (1-20): 10\n",
    "Muy bajo. Adivina el número (1-20): 18\n",
    "Muy alto. Adivina el número (1-20): 15\n",
    "¡Correcto! Lo adivinaste en 3 intentos.\n",
    "```"
   ]
  },
  {
   "cell_type": "code",
   "execution_count": 18,
   "id": "1a1daba0",
   "metadata": {},
   "outputs": [
    {
     "name": "stdout",
     "output_type": "stream",
     "text": [
      "¡Correcto! Lo adivinaaste en 5 intentos.\n"
     ]
    }
   ],
   "source": [
    "import random as ran\n",
    "n = ran.randint(1, 20)\n",
    "cont = 1\n",
    "num = int(input(\"Adivina el número (1-20): \"))\n",
    "while num != n:\n",
    "    if num < n:\n",
    "        num = int(input(\"Muy bajo. Adivina el número (1-20): \"))\n",
    "    elif num > n:\n",
    "        num = int(input(\"Muy alto. Adivina el número (1-20): \"))\n",
    "    cont += 1\n",
    "print(f\"¡Correcto! Lo adivinaaste en {cont} intentos.\")"
   ]
  },
  {
   "cell_type": "markdown",
   "id": "38ea9ade",
   "metadata": {},
   "source": [
    "### Ejercicio 10: Análisis de Texto\n",
    "\n",
    "Pide al usuario que ingrese un texto (str) y realiza el siguiente análisis usando ciclos:\n",
    "\n",
    "- Cuenta el número total de caracteres\n",
    "- Cuenta cuántos espacios hay\n",
    "- Cuenta cuántos dígitos numéricos hay\n",
    "- Muestra la primera y última letra del texto\n",
    "\n",
    "**Ejemplo de salida:**\n",
    "\n",
    "```\n",
    "Ingresa un texto: Hola mundo 123\n",
    "Análisis del texto:\n",
    "- Caracteres totales: 13\n",
    "- Espacios: 2\n",
    "- Dígitos numéricos: 3\n",
    "- Primera letra: H\n",
    "- Última letra: 3\n",
    "```"
   ]
  },
  {
   "cell_type": "code",
   "execution_count": 22,
   "id": "3d54190d",
   "metadata": {},
   "outputs": [
    {
     "name": "stdout",
     "output_type": "stream",
     "text": [
      "Análisis del texto:\n",
      "- Caracteres totales: 14\n",
      "- Espacios: 2\n",
      "- Dígitos numéricos: 3\n",
      "- Primera letra: H\n",
      "- Última letra: 3\n"
     ]
    }
   ],
   "source": [
    "texto = input(\"Ingresa un texto: \")\n",
    "total = len(texto)\n",
    "espacios = 0\n",
    "digitos = 0\n",
    "for caracter in texto:\n",
    "    if caracter == \" \":\n",
    "        espacios += 1\n",
    "    if caracter.isdigit():\n",
    "        digitos += 1\n",
    "primera = texto[0] if len(texto) > 0 else \"\"\n",
    "ultima = texto[-1] if len(texto) > 0 else \"\"\n",
    "print(\"Análisis del texto:\")\n",
    "print(f\"- Caracteres totales: {total}\")\n",
    "print(f\"- Espacios: {espacios}\")\n",
    "print(f\"- Dígitos numéricos: {digitos}\")\n",
    "print(f\"- Primera letra: {primera}\")\n",
    "print(f\"- Última letra: {ultima}\")"
   ]
  }
 ],
 "metadata": {
  "kernelspec": {
   "display_name": "base",
   "language": "python",
   "name": "python3"
  },
  "language_info": {
   "codemirror_mode": {
    "name": "ipython",
    "version": 3
   },
   "file_extension": ".py",
   "mimetype": "text/x-python",
   "name": "python",
   "nbconvert_exporter": "python",
   "pygments_lexer": "ipython3",
   "version": "3.13.5"
  }
 },
 "nbformat": 4,
 "nbformat_minor": 5
}
