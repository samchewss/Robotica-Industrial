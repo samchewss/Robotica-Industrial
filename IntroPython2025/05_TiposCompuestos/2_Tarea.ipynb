{
 "cells": [
  {
   "cell_type": "code",
   "execution_count": null,
   "id": "19c7bc81",
   "metadata": {},
   "outputs": [],
   "source": []
  },
  {
   "cell_type": "code",
   "execution_count": null,
   "id": "6b378164",
   "metadata": {},
   "outputs": [],
   "source": []
  },
  {
   "cell_type": "code",
   "execution_count": 1,
   "id": "e8f538d1",
   "metadata": {},
   "outputs": [],
   "source": [
    "# Ejemplo de uso\n",
    "grid = [\n",
    "    [0, 0, 0, 0, 1],\n",
    "    [0, 1, 1, 0, 1],\n",
    "    [0, 0, 0, 0, 0],\n",
    "    [0, 1, 0, 1, 0],\n",
    "    [0, 0, 0, 0, 0]\n",
    "]\n",
    "\n",
    "start = (0, 0)\n",
    "goal = (4, 4)\n",
    "#path = a_star(grid, start, goal)\n",
    "#print(\"Camino encontrado:\", path)"
   ]
  },
  {
   "cell_type": "code",
   "execution_count": 2,
   "id": "85de97ff",
   "metadata": {},
   "outputs": [
    {
     "ename": "NameError",
     "evalue": "name 'path' is not defined",
     "output_type": "error",
     "traceback": [
      "\u001b[31m---------------------------------------------------------------------------\u001b[39m",
      "\u001b[31mNameError\u001b[39m                                 Traceback (most recent call last)",
      "\u001b[36mCell\u001b[39m\u001b[36m \u001b[39m\u001b[32mIn[2]\u001b[39m\u001b[32m, line 1\u001b[39m\n\u001b[32m----> \u001b[39m\u001b[32m1\u001b[39m \u001b[43mpath\u001b[49m\n",
      "\u001b[31mNameError\u001b[39m: name 'path' is not defined"
     ]
    }
   ],
   "source": [
    "path\n"
   ]
  },
  {
   "cell_type": "code",
   "execution_count": null,
   "id": "98adf5bd",
   "metadata": {},
   "outputs": [],
   "source": [
    "grid"
   ]
  },
  {
   "cell_type": "code",
   "execution_count": null,
   "id": "8280a435",
   "metadata": {},
   "outputs": [],
   "source": [
    "gridpath = grid.copy()\n",
    "for x,y in path:\n",
    "    gridpath[x][y] = 2\n",
    "\n",
    "gridpath"
   ]
  },
  {
   "cell_type": "code",
   "execution_count": null,
   "id": "1e09a402",
   "metadata": {},
   "outputs": [],
   "source": [
    "\n",
    "grid = [\n",
    "    [0, 0, 0, 0, 1],\n",
    "    [0, 1, 1, 0, 1],\n",
    "    [1, 0, 0, 0, 0],\n",
    "    [0, 1, 0, 1, 0],\n",
    "    [0, 0, 0, 0, 0]\n",
    "]\n",
    "\n"
   ]
  },
  {
   "cell_type": "code",
   "execution_count": null,
   "id": "e8e19d57",
   "metadata": {},
   "outputs": [],
   "source": [
    "grid"
   ]
  },
  {
   "cell_type": "code",
   "execution_count": null,
   "id": "6547d864",
   "metadata": {},
   "outputs": [],
   "source": []
  },
  {
   "cell_type": "code",
   "execution_count": null,
   "id": "0a1a7119",
   "metadata": {},
   "outputs": [],
   "source": [
    "#gridpath = grid.copy()\n",
    "for x,y in path:\n",
    "    gridpath[x][y] = 2\n",
    "\n",
    "gridpath"
   ]
  },
  {
   "cell_type": "code",
   "execution_count": null,
   "id": "8e4157da",
   "metadata": {},
   "outputs": [],
   "source": []
  },
  {
   "cell_type": "code",
   "execution_count": null,
   "id": "ef1cf742",
   "metadata": {},
   "outputs": [],
   "source": [
    "from collections import deque\n",
    "\n",
    "def shortest_path(grid, start, goal):\n",
    "    rows, cols = len(grid), len(grid[0])\n",
    "    queue = deque([(start, [start])])\n",
    "    visited = set([start])\n",
    "    directions = [(-1,0), (1,0), (0,-1), (0,1)]  # arriba, abajo, izquierda, derecha\n",
    "\n",
    "    while queue:\n",
    "        (x, y), path = queue.popleft()\n",
    "        if (x, y) == goal:\n",
    "            return path\n",
    "        for dx, dy in directions:\n",
    "            nx, ny = x + dx, y + dy\n",
    "            if (0 <= nx < rows and 0 <= ny < cols and\n",
    "                grid[nx][ny] == 0 and (nx, ny) not in visited):\n",
    "                queue.append(((nx, ny), path + [(nx, ny)]))\n",
    "                visited.add((nx, ny))\n",
    "    return None  # No hay camino\n",
    "\n",
    "# Ejemplo de uso:\n",
    "grid = [\n",
    "    [0, 0, 0, 0, 1],\n",
    "    [0, 1, 1, 0, 1],\n",
    "    [0, 0, 0, 0, 0],\n",
    "    [0, 1, 0, 1, 0],\n",
    "    [0, 0, 0, 0, 0]\n",
    "]\n",
    "start = (0, 0)\n",
    "goal = (4, 4)\n",
    "path = shortest_path(grid, start, goal)\n",
    "print(\"Camino más corto:\", path)"
   ]
  },
  {
   "cell_type": "code",
   "execution_count": null,
   "id": "4131fd7f",
   "metadata": {},
   "outputs": [],
   "source": [
    "# Visualizar el camino en la matriz marcando el recorrido con 2\n",
    "if path:\n",
    "    gridpath = [row.copy() for row in grid]\n",
    "    for x, y in path:\n",
    "        gridpath[x][y] = 2\n",
    "    for fila in gridpath:\n",
    "        print(fila)\n",
    "else:\n",
    "    print(\"No hay camino disponible.\")"
   ]
  }
 ],
 "metadata": {
  "kernelspec": {
   "display_name": "base",
   "language": "python",
   "name": "python3"
  },
  "language_info": {
   "codemirror_mode": {
    "name": "ipython",
    "version": 3
   },
   "file_extension": ".py",
   "mimetype": "text/x-python",
   "name": "python",
   "nbconvert_exporter": "python",
   "pygments_lexer": "ipython3",
   "version": "3.13.5"
  }
 },
 "nbformat": 4,
 "nbformat_minor": 5
}
