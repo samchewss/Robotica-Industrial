{
 "cells": [
  {
   "cell_type": "markdown",
   "metadata": {},
   "source": [
    "# El bucle while o bucle mientras \n",
    "\n",
    "Un bucle while **permite repetir un bloque de código mientras una condición se mantenga verdadera.** (es decir, mientras la condición tenga el valor True) .\n",
    "\n",
    "**while** condicion**:**\n",
    "\n",
    "    cuerpo del bucle\n",
    "    "
   ]
  },
  {
   "cell_type": "markdown",
   "metadata": {},
   "source": [
    "### El siguiente programa escribe los números del 1 al 10:"
   ]
  },
  {
   "cell_type": "code",
   "execution_count": 34,
   "metadata": {},
   "outputs": [
    {
     "name": "stdout",
     "output_type": "stream",
     "text": [
      "1\n",
      "2\n",
      "3\n",
      "4\n",
      "5\n",
      "6\n",
      "7\n",
      "8\n",
      "9\n",
      "10\n"
     ]
    }
   ],
   "source": [
    "i=0\n",
    "while i <= 9:\n",
    "    print(i+1)\n",
    "    i += 1"
   ]
  },
  {
   "cell_type": "code",
   "execution_count": 35,
   "metadata": {},
   "outputs": [
    {
     "name": "stdout",
     "output_type": "stream",
     "text": [
      "10\n",
      "9\n",
      "8\n",
      "7\n",
      "6\n",
      "5\n",
      "4\n",
      "3\n",
      "2\n",
      "1\n",
      "0\n",
      "-1\n",
      "-2\n",
      "-3\n",
      "-4\n"
     ]
    }
   ],
   "source": [
    "i=10\n",
    "while i > -5:\n",
    "    print(i)\n",
    "    i -= 1"
   ]
  },
  {
   "cell_type": "code",
   "execution_count": 36,
   "metadata": {},
   "outputs": [
    {
     "name": "stdout",
     "output_type": "stream",
     "text": [
      "Hello World\n",
      "Hello World\n",
      "Hello World\n",
      "Hello World\n",
      "Hello World\n",
      "Hello World\n",
      "Hello World\n",
      "Hello World\n",
      "Hello World\n",
      "Hello World\n"
     ]
    }
   ],
   "source": [
    "i = 0\n",
    "while i < 10:\n",
    "    print(\"Hello World\")\n",
    "    i += 1"
   ]
  },
  {
   "cell_type": "markdown",
   "metadata": {},
   "source": [
    "## Genere la siguiente progresión geométrica\n",
    "\n",
    "$ 5,15,45,135,405,\\ldots,$ es una progresión geométrica con razón igual a 3, porque cada elemento es el triple del anterior. \n"
   ]
  },
  {
   "cell_type": "code",
   "execution_count": 37,
   "metadata": {},
   "outputs": [
    {
     "name": "stdout",
     "output_type": "stream",
     "text": [
      "3\n",
      "9\n",
      "27\n",
      "81\n",
      "243\n"
     ]
    }
   ],
   "source": [
    "x = 3\n",
    "while x < 500:\n",
    "    print(x)\n",
    "    x = x * 3"
   ]
  },
  {
   "cell_type": "code",
   "execution_count": 38,
   "metadata": {},
   "outputs": [],
   "source": [
    "x;"
   ]
  },
  {
   "cell_type": "markdown",
   "metadata": {},
   "source": [
    "# Genere la siguiente progresiones aritmética\n",
    "\n",
    "- 3, 5, 7, 9,… \n",
    "\n",
    "- 5, 2, −1, −4,… \n"
   ]
  },
  {
   "cell_type": "code",
   "execution_count": 39,
   "metadata": {},
   "outputs": [
    {
     "name": "stdout",
     "output_type": "stream",
     "text": [
      "3,5,7,9,...\n"
     ]
    }
   ],
   "source": [
    "x=3\n",
    "while x < 10:\n",
    "    print(x,end=\",\")\n",
    "    x += 2\n",
    "print(\"...\")"
   ]
  },
  {
   "cell_type": "code",
   "execution_count": 40,
   "metadata": {},
   "outputs": [
    {
     "name": "stdout",
     "output_type": "stream",
     "text": [
      "5,2,-1,-4,...\n"
     ]
    }
   ],
   "source": [
    "x=5\n",
    "while x > -5:\n",
    "    print (x,end=\",\")\n",
    "    x -= 3\n",
    "print (\"...\")"
   ]
  },
  {
   "cell_type": "code",
   "execution_count": 41,
   "metadata": {},
   "outputs": [],
   "source": [
    "x;"
   ]
  },
  {
   "cell_type": "markdown",
   "metadata": {},
   "source": [
    "# Bucles FOR\n",
    "\n",
    "La sentencia for en Python difiere un poco de lo que uno puede estar acostumbrado en lenguajes como C o Java. \n",
    "\n",
    "En lugar de siempre iterar sobre una progresión aritmética de números o darle al usuario la posibilidad de definir tanto el paso de la iteración como la condición de fin (como en C), la sentencia **for** de Python **itera sobre los ítems de cualquier secuencia** (una **lista** o una **cadena de texto**), en el orden que aparecen en la secuencia.\n",
    "\n",
    "\n",
    "**for** item **in** secuencia:\n",
    "    \n",
    "     cuerpo del bucle"
   ]
  },
  {
   "cell_type": "code",
   "execution_count": 42,
   "metadata": {},
   "outputs": [
    {
     "data": {
      "text/plain": [
       "10"
      ]
     },
     "execution_count": 42,
     "metadata": {},
     "output_type": "execute_result"
    }
   ],
   "source": [
    "len(\"Hola Mundo\")"
   ]
  },
  {
   "cell_type": "code",
   "execution_count": 43,
   "metadata": {},
   "outputs": [
    {
     "name": "stdout",
     "output_type": "stream",
     "text": [
      "H\n",
      "o\n",
      "l\n",
      "a\n",
      " \n",
      "M\n",
      "u\n",
      "n\n",
      "d\n",
      "o\n"
     ]
    }
   ],
   "source": [
    "for item in \"Hola Mundo\":\n",
    "    print(item)"
   ]
  },
  {
   "cell_type": "code",
   "execution_count": 44,
   "metadata": {},
   "outputs": [
    {
     "name": "stdout",
     "output_type": "stream",
     "text": [
      "H-o-l-a- -M-u-n-d-o-"
     ]
    }
   ],
   "source": [
    "for c in \"Hola Mundo\":\n",
    "    print(c,end=\"-\")"
   ]
  },
  {
   "cell_type": "code",
   "execution_count": 45,
   "metadata": {},
   "outputs": [
    {
     "name": "stdout",
     "output_type": "stream",
     "text": [
      "5-15-45-135-405-"
     ]
    }
   ],
   "source": [
    "for x in [5,15,45,135,405]:\n",
    "    print(x, end=\"-\")\n",
    "    "
   ]
  },
  {
   "cell_type": "code",
   "execution_count": null,
   "metadata": {},
   "outputs": [],
   "source": []
  },
  {
   "cell_type": "markdown",
   "metadata": {},
   "source": [
    "# El tipo range\n",
    "\n",
    "El tipo range() con un único argumento se escribe range(n) y crea una lista inmutable de n números enteros consecutivos que empieza en 0 y acaba en n - 1.\n",
    "\n",
    "Para ver los valores del range(), es necesario convertirlo a lista mediante la función list().\n",
    "\n",
    "**El tipo range es una lista inmutable de números enteros en sucesión aritmética.**\n",
    "\n",
    "Inmutable significa que, a diferencia de las listas, **los range no se pueden modificar.**\n",
    "**Una sucesión artimética es una sucesión en la que la diferencia entre dos términos consecutivos es siempre la misma.**\n"
   ]
  },
  {
   "cell_type": "code",
   "execution_count": 46,
   "metadata": {},
   "outputs": [
    {
     "name": "stdout",
     "output_type": "stream",
     "text": [
      "0\n",
      "1\n",
      "2\n",
      "3\n",
      "4\n",
      "Programa terminado\n"
     ]
    }
   ],
   "source": [
    "for i in range(5):\n",
    "    print(i)\n",
    "print(\"Programa terminado\")"
   ]
  },
  {
   "cell_type": "code",
   "execution_count": 47,
   "metadata": {},
   "outputs": [
    {
     "name": "stdout",
     "output_type": "stream",
     "text": [
      "2\n",
      "3\n",
      "4\n",
      "5\n",
      "6\n",
      "7\n",
      "8\n",
      "9\n",
      "Programa terminado\n"
     ]
    }
   ],
   "source": [
    "for i in range(2,10):\n",
    "    print (i)\n",
    "print(\"Programa terminado\") "
   ]
  },
  {
   "cell_type": "code",
   "execution_count": 48,
   "metadata": {
    "scrolled": true
   },
   "outputs": [
    {
     "name": "stdout",
     "output_type": "stream",
     "text": [
      "2\n",
      "5\n",
      "8\n",
      "11\n",
      "14\n",
      "17\n",
      "Programa terminado\n"
     ]
    }
   ],
   "source": [
    "for i in range(2,20,3):\n",
    "    print (i)\n",
    "print(\"Programa terminado\")    "
   ]
  },
  {
   "cell_type": "code",
   "execution_count": 49,
   "metadata": {},
   "outputs": [
    {
     "data": {
      "text/plain": [
       "range"
      ]
     },
     "execution_count": 49,
     "metadata": {},
     "output_type": "execute_result"
    }
   ],
   "source": [
    "type(range(5))"
   ]
  },
  {
   "cell_type": "code",
   "execution_count": 50,
   "metadata": {},
   "outputs": [
    {
     "name": "stdout",
     "output_type": "stream",
     "text": [
      "[0, 1, 2, 3, 4, 5, 6, 7, 8, 9, 10, 11, 12, 13, 14, 15, 16, 17, 18, 19, 20, 21, 22, 23, 24, 25, 26, 27, 28, 29, 30, 31, 32, 33, 34, 35, 36, 37, 38, 39, 40, 41, 42, 43, 44, 45, 46, 47, 48, 49, 50, 51, 52, 53, 54, 55, 56, 57, 58, 59, 60, 61, 62, 63, 64, 65, 66, 67, 68, 69, 70, 71, 72, 73, 74, 75, 76, 77, 78, 79, 80, 81, 82, 83, 84, 85, 86, 87, 88, 89, 90, 91, 92, 93, 94, 95, 96, 97, 98, 99, 100, 101, 102, 103, 104, 105, 106, 107, 108, 109, 110, 111, 112, 113, 114, 115, 116, 117, 118, 119, 120, 121, 122, 123, 124, 125, 126, 127, 128, 129, 130, 131, 132, 133, 134, 135, 136, 137, 138, 139, 140, 141, 142, 143, 144, 145, 146, 147, 148, 149, 150, 151, 152, 153, 154, 155, 156, 157, 158, 159, 160, 161, 162, 163, 164, 165, 166, 167, 168, 169, 170, 171, 172, 173, 174, 175, 176, 177, 178, 179, 180, 181, 182, 183, 184, 185, 186, 187, 188, 189, 190, 191, 192, 193, 194, 195, 196, 197, 198, 199, 200, 201, 202, 203, 204, 205, 206, 207, 208, 209, 210, 211, 212, 213, 214, 215, 216, 217, 218, 219, 220, 221, 222, 223, 224, 225, 226, 227, 228, 229, 230, 231, 232, 233, 234, 235, 236, 237, 238, 239, 240, 241, 242, 243, 244, 245, 246, 247, 248, 249, 250, 251, 252, 253, 254, 255, 256, 257, 258, 259, 260, 261, 262, 263, 264, 265, 266, 267, 268, 269, 270, 271, 272, 273, 274, 275, 276, 277, 278, 279, 280, 281, 282, 283, 284, 285, 286, 287, 288, 289, 290, 291, 292, 293, 294, 295, 296, 297, 298, 299, 300, 301, 302, 303, 304, 305, 306, 307, 308, 309, 310, 311, 312, 313, 314, 315, 316, 317, 318, 319, 320, 321, 322, 323, 324, 325, 326, 327, 328, 329, 330, 331, 332, 333, 334, 335, 336, 337, 338, 339, 340, 341, 342, 343, 344, 345, 346, 347, 348, 349, 350, 351, 352, 353, 354, 355, 356, 357, 358, 359, 360, 361, 362, 363, 364, 365, 366, 367, 368, 369, 370, 371, 372, 373, 374, 375, 376, 377, 378, 379, 380, 381, 382, 383, 384, 385, 386, 387, 388, 389, 390, 391, 392, 393, 394, 395, 396, 397, 398, 399, 400, 401, 402, 403, 404, 405, 406, 407, 408, 409, 410, 411, 412, 413, 414, 415, 416, 417, 418, 419, 420, 421, 422, 423, 424, 425, 426, 427, 428, 429, 430, 431, 432, 433, 434, 435, 436, 437, 438, 439, 440, 441, 442, 443, 444, 445, 446, 447, 448, 449, 450, 451, 452, 453, 454, 455, 456, 457, 458, 459, 460, 461, 462, 463, 464, 465, 466, 467, 468, 469, 470, 471, 472, 473, 474, 475, 476, 477, 478, 479, 480, 481, 482, 483, 484, 485, 486, 487, 488, 489, 490, 491, 492, 493, 494, 495, 496, 497, 498, 499, 500, 501, 502, 503, 504, 505, 506, 507, 508, 509, 510, 511, 512, 513, 514, 515, 516, 517, 518, 519, 520, 521, 522, 523, 524, 525, 526, 527, 528, 529, 530, 531, 532, 533, 534, 535, 536, 537, 538, 539, 540, 541, 542, 543, 544, 545, 546, 547, 548, 549, 550, 551, 552, 553, 554, 555, 556, 557, 558, 559, 560, 561, 562, 563, 564, 565, 566, 567, 568, 569, 570, 571, 572, 573, 574, 575, 576, 577, 578, 579, 580, 581, 582, 583, 584, 585, 586, 587, 588, 589, 590, 591, 592, 593, 594, 595, 596, 597, 598, 599, 600, 601, 602, 603, 604, 605, 606, 607, 608, 609, 610, 611, 612, 613, 614, 615, 616, 617, 618, 619, 620, 621, 622, 623, 624, 625, 626, 627, 628, 629, 630, 631, 632, 633, 634, 635, 636, 637, 638, 639, 640, 641, 642, 643, 644, 645, 646, 647, 648, 649, 650, 651, 652, 653, 654, 655, 656, 657, 658, 659, 660, 661, 662, 663, 664, 665, 666, 667, 668, 669, 670, 671, 672, 673, 674, 675, 676, 677, 678, 679, 680, 681, 682, 683, 684, 685, 686, 687, 688, 689, 690, 691, 692, 693, 694, 695, 696, 697, 698, 699, 700, 701, 702, 703, 704, 705, 706, 707, 708, 709, 710, 711, 712, 713, 714, 715, 716, 717, 718, 719, 720, 721, 722, 723, 724, 725, 726, 727, 728, 729, 730, 731, 732, 733, 734, 735, 736, 737, 738, 739, 740, 741, 742, 743, 744, 745, 746, 747, 748, 749, 750, 751, 752, 753, 754, 755, 756, 757, 758, 759, 760, 761, 762, 763, 764, 765, 766, 767, 768, 769, 770, 771, 772, 773, 774, 775, 776, 777, 778, 779, 780, 781, 782, 783, 784, 785, 786, 787, 788, 789, 790, 791, 792, 793, 794, 795, 796, 797, 798, 799, 800, 801, 802, 803, 804, 805, 806, 807, 808, 809, 810, 811, 812, 813, 814, 815, 816, 817, 818, 819, 820, 821, 822, 823, 824, 825, 826, 827, 828, 829, 830, 831, 832, 833, 834, 835, 836, 837, 838, 839, 840, 841, 842, 843, 844, 845, 846, 847, 848, 849, 850, 851, 852, 853, 854, 855, 856, 857, 858, 859, 860, 861, 862, 863, 864, 865, 866, 867, 868, 869, 870, 871, 872, 873, 874, 875, 876, 877, 878, 879, 880, 881, 882, 883, 884, 885, 886, 887, 888, 889, 890, 891, 892, 893, 894, 895, 896, 897, 898, 899, 900, 901, 902, 903, 904, 905, 906, 907, 908, 909, 910, 911, 912, 913, 914, 915, 916, 917, 918, 919, 920, 921, 922, 923, 924, 925, 926, 927, 928, 929, 930, 931, 932, 933, 934, 935, 936, 937, 938, 939, 940, 941, 942, 943, 944, 945, 946, 947, 948, 949, 950, 951, 952, 953, 954, 955, 956, 957, 958, 959, 960, 961, 962, 963, 964, 965, 966, 967, 968, 969, 970, 971, 972, 973, 974, 975, 976, 977, 978, 979, 980, 981, 982, 983, 984, 985, 986, 987, 988, 989, 990, 991, 992, 993, 994, 995, 996, 997, 998, 999]\n"
     ]
    }
   ],
   "source": [
    "lis=list(range(1000))\n",
    "print(lis)"
   ]
  },
  {
   "cell_type": "code",
   "execution_count": 51,
   "metadata": {},
   "outputs": [
    {
     "name": "stdout",
     "output_type": "stream",
     "text": [
      "<class 'int'> 0\n",
      "<class 'int'> 1\n",
      "<class 'int'> 2\n",
      "<class 'int'> 3\n",
      "<class 'int'> 4\n"
     ]
    }
   ],
   "source": [
    "for i in range(5):\n",
    "    print(type(i),i)"
   ]
  },
  {
   "cell_type": "code",
   "execution_count": null,
   "metadata": {},
   "outputs": [],
   "source": []
  },
  {
   "cell_type": "code",
   "execution_count": null,
   "metadata": {},
   "outputs": [],
   "source": []
  },
  {
   "cell_type": "markdown",
   "metadata": {},
   "source": [
    "# Sentencias utilitarias\n",
    "\n",
    "## Usando la sentencia ‘break’"
   ]
  },
  {
   "cell_type": "code",
   "execution_count": 52,
   "metadata": {},
   "outputs": [
    {
     "name": "stdout",
     "output_type": "stream",
     "text": [
      "<class 'int'> 1\n",
      "<class 'int'> 2\n",
      "<class 'int'> 3\n",
      "<class 'int'> 4\n",
      "<class 'int'> 5\n",
      "Fin\n"
     ]
    }
   ],
   "source": [
    "# Usando while\n",
    "i = 1\n",
    "while i <= 1000:\n",
    "    print(type(i),i)\n",
    "    if i == 5:\n",
    "        break\n",
    "    i += 1\n",
    "print(\"Fin\")\n",
    "\n"
   ]
  },
  {
   "cell_type": "code",
   "execution_count": 53,
   "metadata": {},
   "outputs": [
    {
     "name": "stdout",
     "output_type": "stream",
     "text": [
      "1\n",
      "2\n",
      "3\n",
      "4\n",
      "5\n",
      "Fin\n"
     ]
    }
   ],
   "source": [
    "# Usando for\n",
    "for i in range(1,10000):\n",
    "    print(i)\n",
    "    if i == 5:\n",
    "        break\n",
    "print(\"Fin\")\n"
   ]
  },
  {
   "cell_type": "markdown",
   "metadata": {},
   "source": [
    "## Usando la sentencia ‘continue’"
   ]
  },
  {
   "cell_type": "code",
   "execution_count": 54,
   "metadata": {},
   "outputs": [
    {
     "name": "stdout",
     "output_type": "stream",
     "text": [
      "1\n",
      "Segundo i: 2\n",
      "Segundo i: 2\n",
      "Segundo i: 2\n",
      "Segundo i: 2\n",
      "2\n",
      "Segundo i: 3\n",
      "Segundo i: 3\n",
      "Segundo i: 3\n",
      "Segundo i: 3\n",
      "3\n",
      "Segundo i: 4\n",
      "Segundo i: 4\n",
      "Segundo i: 4\n",
      "Segundo i: 4\n",
      "4\n",
      "Segundo i: 5\n",
      "Segundo i: 5\n",
      "Segundo i: 5\n",
      "Segundo i: 5\n",
      "5\n",
      "Segundo i: 6\n",
      "Segundo i: 6\n",
      "Segundo i: 6\n",
      "Segundo i: 6\n",
      "6\n",
      "Segundo i: 7\n",
      "Segundo i: 7\n",
      "Segundo i: 7\n",
      "Segundo i: 7\n",
      "7\n",
      "Segundo i: 8\n",
      "Segundo i: 8\n",
      "Segundo i: 8\n",
      "Segundo i: 8\n",
      "8\n",
      "Segundo i: 9\n",
      "Segundo i: 9\n",
      "Segundo i: 9\n",
      "Segundo i: 9\n",
      "9\n",
      "Segundo i: 10\n",
      "Segundo i: 10\n",
      "Segundo i: 10\n",
      "Segundo i: 10\n",
      "10\n",
      "Segundo i: 11\n",
      "Segundo i: 11\n",
      "Segundo i: 11\n",
      "Segundo i: 11\n",
      "Programa terminado\n"
     ]
    }
   ],
   "source": [
    "i = 1\n",
    "while i <= 10:\n",
    "    print(i)\n",
    "    i += 1\n",
    "    \n",
    "\n",
    "        \n",
    "    print (\"Segundo i:\",i)\n",
    "    print (\"Segundo i:\",i)\n",
    "    print (\"Segundo i:\",i)\n",
    "    print (\"Segundo i:\",i)\n",
    "\n",
    "print(\"Programa terminado\")"
   ]
  },
  {
   "cell_type": "code",
   "execution_count": 55,
   "metadata": {},
   "outputs": [
    {
     "name": "stdout",
     "output_type": "stream",
     "text": [
      "1\n",
      "Segundo i: 1\n",
      "2\n",
      "Segundo i: 2\n",
      "3\n",
      "Segundo i: 3\n",
      "4\n",
      "Segundo i: 4\n",
      "5\n",
      "6\n",
      "Segundo i: 6\n",
      "7\n",
      "Segundo i: 7\n",
      "8\n",
      "Segundo i: 8\n",
      "9\n",
      "Segundo i: 9\n",
      "10\n",
      "Segundo i: 10\n",
      "Programa terminado\n"
     ]
    }
   ],
   "source": [
    "#Tener precaución usando continue con while\n",
    "\n",
    "i = 1\n",
    "while i <= 10:\n",
    "    print(i)\n",
    "    if i == 5:\n",
    "        i += 1\n",
    "        continue\n",
    "    print (\"Segundo i:\",i)\n",
    "    i += 1\n",
    "print(\"Programa terminado\")"
   ]
  },
  {
   "cell_type": "code",
   "execution_count": 56,
   "metadata": {},
   "outputs": [
    {
     "name": "stdout",
     "output_type": "stream",
     "text": [
      "0\n",
      "1\n",
      "2\n",
      "3\n",
      "Segundo i: 3\n",
      "Segundo i: 3\n",
      "4\n",
      "Segundo i: 4\n",
      "Segundo i: 4\n",
      "5\n",
      "Segundo i: 5\n",
      "Segundo i: 5\n",
      "6\n",
      "Segundo i: 6\n",
      "Segundo i: 6\n",
      "7\n",
      "Segundo i: 7\n",
      "Segundo i: 7\n",
      "8\n",
      "Segundo i: 8\n",
      "Segundo i: 8\n",
      "9\n"
     ]
    }
   ],
   "source": [
    "for i in range(10):\n",
    "    print (i)\n",
    "    if 3 <= i <= 8:\n",
    "        print (\"Segundo i:\",i)\n",
    "        print (\"Segundo i:\",i)"
   ]
  },
  {
   "cell_type": "markdown",
   "metadata": {},
   "source": [
    "# Generar números pseudoaleatorios"
   ]
  },
  {
   "cell_type": "code",
   "execution_count": 57,
   "metadata": {},
   "outputs": [],
   "source": [
    "import random as ran\n"
   ]
  },
  {
   "cell_type": "code",
   "execution_count": 58,
   "metadata": {},
   "outputs": [
    {
     "data": {
      "text/plain": [
       "9"
      ]
     },
     "execution_count": 58,
     "metadata": {},
     "output_type": "execute_result"
    }
   ],
   "source": [
    "ran.randint(1,10)"
   ]
  },
  {
   "cell_type": "code",
   "execution_count": 59,
   "metadata": {},
   "outputs": [
    {
     "name": "stdout",
     "output_type": "stream",
     "text": [
      "\u001b[31mSignature:\u001b[39m ran.randint(a, b)\n",
      "\u001b[31mDocstring:\u001b[39m\n",
      "Return random integer in range [a, b], including both end points.\n",
      "        \n",
      "\u001b[31mFile:\u001b[39m      d:\\downloads\\anaconda3\\lib\\random.py\n",
      "\u001b[31mType:\u001b[39m      method"
     ]
    }
   ],
   "source": [
    "ran.randint?"
   ]
  },
  {
   "cell_type": "code",
   "execution_count": 60,
   "metadata": {},
   "outputs": [],
   "source": [
    "#input(\"algun mensaje: \")"
   ]
  },
  {
   "cell_type": "code",
   "execution_count": 61,
   "metadata": {},
   "outputs": [],
   "source": [
    "#x = input(\"algun mensaje: \")\n",
    "#x"
   ]
  },
  {
   "cell_type": "code",
   "execution_count": 62,
   "metadata": {},
   "outputs": [
    {
     "data": {
      "text/plain": [
       "(int, int)"
      ]
     },
     "execution_count": 62,
     "metadata": {},
     "output_type": "execute_result"
    }
   ],
   "source": [
    "type(x),type(6)"
   ]
  },
  {
   "cell_type": "code",
   "execution_count": 63,
   "metadata": {},
   "outputs": [],
   "source": [
    "x;"
   ]
  },
  {
   "cell_type": "markdown",
   "metadata": {},
   "source": [
    "# Juego simple. \n",
    "\n",
    "Adivina el numero que la maquina esta pensando!!!\n",
    "\n",
    "- En este pequeño juego el usuario trata de adivinar el número generado por la computadora. \n",
    "- Tiene solo tres oportunidades para adivinar el número. \n",
    "\n",
    "\n",
    "<!--\n",
    "    #print (\"Intento %d: Adivina el numero!!!\" %(i))\n",
    "    #print (\"Intento {}: Adivina el numero!!!\".format(i))\n",
    "    #print (\"Intento {0}: Adivina el numero!!!\".format(i))\n",
    "    #print (\"Intento\",i,\": Adivina el numero!!!\")\n",
    "    #print (\"Intento\"+str(i)+\": Adivina el numero!!!\")\n",
    "-->\n",
    "\n"
   ]
  },
  {
   "cell_type": "code",
   "execution_count": 64,
   "metadata": {},
   "outputs": [
    {
     "data": {
      "text/plain": [
       "'i=0\\ny=ran.randint(1,10)\\n\\nwhile i <= 3:\\n    x=int(input(\"Adivina el número que la maquina está pensando: \"))\\n    if x == y:\\n        print(\"¡Adivinaste!\")\\n        break\\n    else:\\n        print(\"No es el número, intenta de nuevo\")3\\n        i+=1'"
      ]
     },
     "execution_count": 64,
     "metadata": {},
     "output_type": "execute_result"
    }
   ],
   "source": [
    "i=0\n",
    "y=ran.randint(1,10)\n",
    "\n",
    "while i <= 3:\n",
    "    x=int(input(\"Adivina el número que la maquina está pensando: \"))\n",
    "    if x == y:\n",
    "        print(\"¡Adivinaste!\")\n",
    "        break\n",
    "    else:\n",
    "        print(\"No es el número, intenta de nuevo\")3\n",
    "        i+=1\n",
    "\n"
   ]
  },
  {
   "cell_type": "markdown",
   "metadata": {},
   "source": [
    "## Tarea: Modificación del juego anterior\n",
    "\n",
    "- En este pequeño juego el usuario trata de adivinar el número generado por la computadora. \n",
    "- Tiene solo tres oportunidades para adivinarlo. \n",
    "- **Si el número no fue adivinado, el programa se reiniciara automáticamente hasta que se adivine el número. **"
   ]
  },
  {
   "cell_type": "code",
   "execution_count": 65,
   "metadata": {
    "scrolled": true
   },
   "outputs": [
    {
     "data": {
      "text/plain": [
       "'i=1\\ny=ran.randint(1,10)\\n\\nwhile i <= 3:\\n    x=int(input(\"Adivina el número que la maquina está pensando: \"))\\n    if x == y:\\n        print(\"¡Adivinaste!\")\\n        break\\n    else:\\n        print(\"No es el número, intenta de nuevo\")\\n        i+=1'"
      ]
     },
     "execution_count": 65,
     "metadata": {},
     "output_type": "execute_result"
    }
   ],
   "source": [
    "i=1\n",
    "y=ran.randint(1,10)\n",
    "\n",
    "while i <= 3:\n",
    "    x=int(input(\"Adivina el número que la maquina está pensando: \"))\n",
    "    if x == y:\n",
    "        print(\"¡Adivinaste!\")\n",
    "        break\n",
    "    else:\n",
    "        print(\"No es el número, intenta de nuevo\")\n",
    "        i+=1"
   ]
  },
  {
   "cell_type": "markdown",
   "metadata": {},
   "source": [
    "## "
   ]
  },
  {
   "cell_type": "markdown",
   "metadata": {},
   "source": [
    "# Tarea: Sumatoria \n",
    "\n",
    "Haz un programa que pida el valor de dos enteros $n$ y $m$ y que muestre por pantalla el valor de\n",
    "\n",
    "$$ \\sum^{m}_{i=n}i $$"
   ]
  },
  {
   "cell_type": "code",
   "execution_count": 67,
   "metadata": {
    "run_control": {
     "marked": false
    }
   },
   "outputs": [
    {
     "name": "stdout",
     "output_type": "stream",
     "text": [
      "La sumatoria desde 1 hasta 6 es: 21\n"
     ]
    }
   ],
   "source": [
    "n = int(input(\"Escribe un número entero: \"))\n",
    "m = int(input(\"Escribe otro número entero: \"))\n",
    "\n",
    "suma = 0\n",
    "for i in range(n, m + 1):\n",
    "    suma += i   # se va sumando cada valor de i\n",
    "\n",
    "print(f\"La sumatoria desde {n} hasta {m} es: {suma}\")\n",
    "    "
   ]
  },
  {
   "cell_type": "markdown",
   "metadata": {},
   "source": [
    "# Tarea: Programa que calcule el factorial\n",
    "\n",
    "Queremos hacer un programa que calcule el factorial de un número entero positivo. El factorial de $n$ se denota con $n!$\n",
    "\n",
    "$$n! = 1*2*3 * \\ldots (n-1)*n $$\n",
    "\n",
    "y que $0! = 1$, haz un programa que pida el valor de n y muestre por pantalla el resultado de calcular $n!$\n",
    "\n",
    "$$ n! := f(n)=\\prod^n_{k=1} k = 1*2*3 * \\ldots (n-1)*n$$\n",
    "\n",
    "También es posible definirlo mediante la relación de recurrencia\n",
    "\n",
    "$$ n! =\\delta(n) =\\begin{equation*}\n",
    "  \\left\\lbrace\n",
    "  \\begin{array}{lr}\n",
    "     \\delta(n) = 1 & \\text{ si, } n = 0 \\\\\n",
    "     \\delta(n) = (n-1)!\\times n & \\text{ si, } n > 0 \\\\\n",
    "  \\end{array}\n",
    "  \\right.\n",
    "\\end{equation*}$$"
   ]
  },
  {
   "cell_type": "code",
   "execution_count": 69,
   "metadata": {},
   "outputs": [
    {
     "name": "stdout",
     "output_type": "stream",
     "text": [
      "El factorial de 6 es: 720\n"
     ]
    }
   ],
   "source": [
    "n = int(input(\"Escribe un número entero: \"))\n",
    "fact = 1\n",
    "for i in range(1, n + 1):\n",
    "    if n == 0:\n",
    "        print(f\"El factorial de {n} es 1\")\n",
    "    else:\n",
    "        fact *= i\n",
    "print(f\"El factorial de {n} es: {fact}\")"
   ]
  }
 ],
 "metadata": {
  "hide_input": false,
  "kernelspec": {
   "display_name": "base",
   "language": "python",
   "name": "python3"
  },
  "language_info": {
   "codemirror_mode": {
    "name": "ipython",
    "version": 3
   },
   "file_extension": ".py",
   "mimetype": "text/x-python",
   "name": "python",
   "nbconvert_exporter": "python",
   "pygments_lexer": "ipython3",
   "version": "3.13.5"
  },
  "toc": {
   "base_numbering": 1,
   "nav_menu": {},
   "number_sections": true,
   "sideBar": true,
   "skip_h1_title": false,
   "title_cell": "Table of Contents",
   "title_sidebar": "Contents",
   "toc_cell": false,
   "toc_position": {
    "height": "calc(100% - 180px)",
    "left": "10px",
    "top": "150px",
    "width": "259px"
   },
   "toc_section_display": "block",
   "toc_window_display": false
  },
  "varInspector": {
   "cols": {
    "lenName": 16,
    "lenType": 16,
    "lenVar": 40
   },
   "kernels_config": {
    "python": {
     "delete_cmd_postfix": "",
     "delete_cmd_prefix": "del ",
     "library": "var_list.py",
     "varRefreshCmd": "print(var_dic_list())"
    },
    "r": {
     "delete_cmd_postfix": ") ",
     "delete_cmd_prefix": "rm(",
     "library": "var_list.r",
     "varRefreshCmd": "cat(var_dic_list()) "
    }
   },
   "types_to_exclude": [
    "module",
    "function",
    "builtin_function_or_method",
    "instance",
    "_Feature"
   ],
   "window_display": false
  }
 },
 "nbformat": 4,
 "nbformat_minor": 1
}
